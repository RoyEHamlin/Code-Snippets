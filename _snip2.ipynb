{
  "nbformat": 4,
  "nbformat_minor": 0,
  "metadata": {
    "colab": {
      "name": "_snip2.ipynb",
      "provenance": [],
      "collapsed_sections": [
        "W7Dd_3SLWq3W",
        "09CWmyG-j30o",
        "hyidstGVNx9n",
        "4_irBCshkcGh",
        "lWEjTGYsx4Ar",
        "NmAbHaHgWjNs",
        "RzudQim387g4",
        "Q9dZZgmNlt48",
        "MtXzYp32EYsL",
        "TGdI3XpmDb7Z",
        "IEdSD91dF7bm",
        "4VXH_xAwKbmp",
        "oKPjsN0BKfH6",
        "pKzaNwmjRLpw",
        "pkQlKnc4RY4P",
        "4OMWwNuGUa6M"
      ],
      "authorship_tag": "ABX9TyNxbpaknGe0dZKkqlKhgiw2",
      "include_colab_link": true
    },
    "kernelspec": {
      "name": "python3",
      "display_name": "Python 3"
    },
    "language_info": {
      "name": "python"
    }
  },
  "cells": [
    {
      "cell_type": "markdown",
      "metadata": {
        "id": "view-in-github",
        "colab_type": "text"
      },
      "source": [
        "<a href=\"https://colab.research.google.com/github/RoyEHamlin/Code-Snippets/blob/main/_snip2.ipynb\" target=\"_parent\"><img src=\"https://colab.research.google.com/assets/colab-badge.svg\" alt=\"Open In Colab\"/></a>"
      ]
    },
    {
      "cell_type": "markdown",
      "source": [
        "# * **GENERAL**"
      ],
      "metadata": {
        "id": "8CBgDAKjivpy"
      }
    },
    {
      "cell_type": "markdown",
      "source": [
        "## ** Notebook shortcuts"
      ],
      "metadata": {
        "id": "6sTLX28rVQMZ"
      }
    },
    {
      "cell_type": "markdown",
      "source": [
        "### *** Google Colab \n",
        "1. Multi-line edit: Ctrl + Alt + ⬆ / ⬇\n",
        "2. Unfocus current cell: Ctrl + M, U\n",
        "3. Keyboard Preferences: Ctrl + Shfit + / (Ctrl + ?)\n",
        "\n"
      ],
      "metadata": {
        "id": "sD4BL08EVUrm"
      }
    },
    {
      "cell_type": "markdown",
      "source": [
        "#### **** Markdown\n"
      ],
      "metadata": {
        "id": "W7Dd_3SLWq3W"
      }
    },
    {
      "cell_type": "markdown",
      "source": [
        "\n",
        "* Text\n",
        "    * *italics* or _italics_\n",
        "    * **bold** or __bold__\n",
        "    * ***bold italics*** or ___bold italics___\n",
        "    * ~strike~ or ~~strike~~ or ~~~strike~~~\n",
        "\n",
        "* Hard text break\\\n",
        "text text text\\\n",
        "more text more text more text\n",
        "    "
      ],
      "metadata": {
        "id": "P0qYJG5EbI8c"
      }
    },
    {
      "cell_type": "markdown",
      "source": [
        "\n",
        "* Lists\n",
        "    * unordered\n",
        "        * astrisks\n",
        "        + plus\n",
        "        - minus\n",
        "    * ordered\n",
        "        1. first\n",
        "        2. second\n",
        "            1. one\n",
        "            2. two\n",
        "    * tasks\n",
        "        - [ ] incomplete\n",
        "        - [x] complete\n",
        " "
      ],
      "metadata": {
        "id": "bYJjjRQmaCnm"
      }
    },
    {
      "cell_type": "markdown",
      "source": [
        "* Structure\n",
        "    * dividing line (*** or --- or ___)\n",
        "        ***\n",
        "        ---\n",
        "        ___\n",
        "    * Blockquotes\n",
        "        > start of indent\n",
        "        >> two levels in\n",
        "        >>> three levels in\n",
        "    * table\n",
        "\n",
        "|header1|header2|header3|\n",
        "|---|:---:|---:|\n",
        "|cell 1|cell2|cell3|\n",
        "|left align|centered|rigth align|\n",
        "|some some text|some some text|some some text|\n",
        "\n",
        "\n"
      ],
      "metadata": {
        "id": "WKxxx9K4aHud"
      }
    },
    {
      "cell_type": "markdown",
      "source": [
        "\n",
        "* Code Block\n",
        "```java\n",
        "public class MyClass{}\n",
        "```\n",
        "Inline `code`\n",
        "\n"
      ],
      "metadata": {
        "id": "-8HtXHkFaUH1"
      }
    },
    {
      "cell_type": "markdown",
      "source": [
        "* Misc\n",
        "    * emoji\n",
        "        * start with \":\"\n",
        "    * latex\n",
        "    * HTML: https://www.markdownguide.org/basic-syntax\n",
        "    "
      ],
      "metadata": {
        "id": "aYxsactMauZt"
      }
    },
    {
      "cell_type": "markdown",
      "source": [
        "## ** Import Modules"
      ],
      "metadata": {
        "id": "09CWmyG-j30o"
      }
    },
    {
      "cell_type": "code",
      "source": [
        "from sklearn import datasets\n",
        "from mpl_toolkits.mplot3d import axes3d, Axes3D  # Import multiple from module\n",
        "\n",
        "import pandas as pd \n",
        "import statsmodels.api as sm\n",
        "\n",
        "import matplotlib.pyplot as plt\n",
        "from matplotlib import pyplot\n",
        "\n",
        "from sklearn.datasets import make_classification\n",
        "from sklearn.linear_model import LogisticRegression\n"
      ],
      "metadata": {
        "colab": {
          "base_uri": "https://localhost:8080/"
        },
        "id": "O1-WirTVkBE_",
        "outputId": "d53ac2c9-a4ac-4568-955f-4b38d6777202"
      },
      "execution_count": null,
      "outputs": [
        {
          "output_type": "stream",
          "name": "stderr",
          "text": [
            "/usr/local/lib/python3.7/dist-packages/statsmodels/tools/_testing.py:19: FutureWarning: pandas.util.testing is deprecated. Use the functions in the public API at pandas.testing instead.\n",
            "  import pandas.util.testing as tm\n"
          ]
        }
      ]
    },
    {
      "cell_type": "code",
      "source": [
        "import sklearn\n",
        "print(sklearn.__version__)  # Version of module"
      ],
      "metadata": {
        "colab": {
          "base_uri": "https://localhost:8080/"
        },
        "id": "bbyyLsrB9liy",
        "outputId": "0a875618-7476-4280-8f26-d723b43b4854"
      },
      "execution_count": null,
      "outputs": [
        {
          "output_type": "stream",
          "name": "stdout",
          "text": [
            "1.0.2\n"
          ]
        }
      ]
    },
    {
      "cell_type": "markdown",
      "source": [
        "## ** Import Files\n"
      ],
      "metadata": {
        "id": "hyidstGVNx9n"
      }
    },
    {
      "cell_type": "code",
      "source": [
        "# https://adamtheautomator.com/python-read-file/ (STUB)\n",
        "# https://www.geeksforgeeks.org/reading-writing-text-files-python/ (STUB)\n",
        "# https://stackoverflow.com/questions/47842388/read-text-files-from-website-with-python#47842443 (STUB, import online text files)"
      ],
      "metadata": {
        "id": "m73P2GRGOHcN"
      },
      "execution_count": null,
      "outputs": []
    },
    {
      "cell_type": "markdown",
      "source": [
        "### *** Google Colab Import ipynb"
      ],
      "metadata": {
        "id": "mYhhjtURAuy5"
      }
    },
    {
      "cell_type": "code",
      "source": [
        "# mount drive\n",
        "from google.colab import drive\n",
        "# drive.mount('/content/drive')\n",
        "drive.mount('/content/drive', force_remount=True)\n",
        "# NOTE: /content/ not seen.  \"drive\" appears as 'root' in file directory on the left.\n",
        "# NOTE: May need to stop/restart Runtime instance\n",
        "\n",
        "# Change Working directory and verify\n",
        "%cd /content/drive/My\\ Drive/Colab\\ Notebooks/Colab\\ Examples/Import\\ from\\ ipynb\n",
        "!ls"
      ],
      "metadata": {
        "colab": {
          "base_uri": "https://localhost:8080/"
        },
        "id": "h2bOeVMhAgjf",
        "outputId": "9ef024cb-5d15-49ab-9fe0-e5b451e112c3"
      },
      "execution_count": null,
      "outputs": [
        {
          "output_type": "stream",
          "name": "stdout",
          "text": [
            "Mounted at /content/drive\n",
            "/content/drive/My Drive/Colab Notebooks/Colab Examples/Import from ipynb\n",
            "'Copy of (original) Importing a python library from Drive.ipynb'\n",
            " mylib.py\n",
            "'(original) Importing a python library from Drive.ipynb'\n",
            " __pycache__\n"
          ]
        }
      ]
    },
    {
      "cell_type": "code",
      "source": [
        "%%writefile mylib.py\n",
        "\n",
        "def MyFunction():\n",
        "  print ('My imported function')"
      ],
      "metadata": {
        "colab": {
          "base_uri": "https://localhost:8080/"
        },
        "id": "R1DDthxiDDD2",
        "outputId": "5a1c4950-c002-49fe-d363-a3e443684ac3"
      },
      "execution_count": null,
      "outputs": [
        {
          "output_type": "stream",
          "name": "stdout",
          "text": [
            "Overwriting mylib.py\n"
          ]
        }
      ]
    },
    {
      "cell_type": "code",
      "source": [
        "!ls -l mylib.py\n",
        "import mylib\n",
        "mylib.MyFunction()"
      ],
      "metadata": {
        "colab": {
          "base_uri": "https://localhost:8080/"
        },
        "id": "pqw60JOkDWnF",
        "outputId": "293ea040-4114-4acd-fe80-b9a872bf6a66"
      },
      "execution_count": null,
      "outputs": [
        {
          "output_type": "stream",
          "name": "stdout",
          "text": [
            "-rw------- 1 root root 51 Jan 19 06:35 mylib.py\n",
            "My imported function\n"
          ]
        }
      ]
    },
    {
      "cell_type": "markdown",
      "source": [
        "## ** Logic Flow (for loops, iterables, etc.)"
      ],
      "metadata": {
        "id": "o6lO35ESDKEx"
      }
    },
    {
      "cell_type": "code",
      "source": [
        "# access the index w/i a for loop\n",
        "# Replacement Field\n",
        "# https://www.geeksforgeeks.org/python-format-function/\n",
        "# https://stackoverflow.com/questions/522563/accessing-the-index-in-for-loops\n",
        "ints = [8, 23, 45, 12, 78]\n",
        "for idx, val in enumerate(ints):\n",
        "    print('item #{} = {}'.format(idx, val))"
      ],
      "metadata": {
        "colab": {
          "base_uri": "https://localhost:8080/"
        },
        "id": "m4HlAA3_DOY7",
        "outputId": "f395171c-b102-435d-abf8-f38f35deb966"
      },
      "execution_count": null,
      "outputs": [
        {
          "output_type": "stream",
          "name": "stdout",
          "text": [
            "item #0 = 8\n",
            "item #1 = 23\n",
            "item #2 = 45\n",
            "item #3 = 12\n",
            "item #4 = 78\n"
          ]
        }
      ]
    },
    {
      "cell_type": "code",
      "source": [
        "# creating 'stub's in code for later coding OR used when statement is required, but you do not want any code to run.\n",
        "pass"
      ],
      "metadata": {
        "id": "a8PPP5Pq2Jww"
      },
      "execution_count": null,
      "outputs": []
    },
    {
      "cell_type": "code",
      "source": [
        "# Initalize a variable \n",
        "i = None\n",
        "type(i)"
      ],
      "metadata": {
        "colab": {
          "base_uri": "https://localhost:8080/"
        },
        "id": "qvdOd4W6Us2E",
        "outputId": "b30ba302-57f9-4a3b-fddc-51fa726672e1"
      },
      "execution_count": 3,
      "outputs": [
        {
          "output_type": "execute_result",
          "data": {
            "text/plain": [
              "NoneType"
            ]
          },
          "metadata": {},
          "execution_count": 3
        }
      ]
    },
    {
      "cell_type": "markdown",
      "source": [
        "### *** Switch\n",
        "https://hackr.io/blog/python-conditional-statements-switch-if-else\n",
        "https://www.geeksforgeeks.org/switch-vs-else/\n",
        "* If-Else\n",
        "    - [x] better for boolean values\n",
        "    - [x] can check a range of values whereas switch is a specific ...\n",
        "        - integer\n",
        "        - enumerated value\n",
        "        - string object\n",
        "* Switch\n",
        "    - [x] Speed: better with 5+ arguments (due to lookup/hash table function)\n",
        "    - [x] Speed: better with multiway branches\n",
        "    - [x] readability"
      ],
      "metadata": {
        "id": "iZxtfmNbSBJk"
      }
    },
    {
      "cell_type": "code",
      "source": [
        "# Method 1: Default\n",
        "def month(i):\n",
        "    switcher={\n",
        "        1:'January',\n",
        "        2:'February',\n",
        "        3:'March',\n",
        "        4:'April',\n",
        "        5:'May',\n",
        "        6:'June',\n",
        "        7:'July',\n",
        "        8:'August',\n",
        "        9:'September',\n",
        "        10:'October',\n",
        "        11:'Novmber',\n",
        "        12:'December'\n",
        "    }\n",
        "    return switcher.get(i,\"Invalid month of the year\")\n",
        "\n",
        "month(3)"
      ],
      "metadata": {
        "colab": {
          "base_uri": "https://localhost:8080/",
          "height": 35
        },
        "id": "DxAdwAqUScsr",
        "outputId": "d9d3b14d-6257-4e85-bd9c-c6013fcb2888"
      },
      "execution_count": null,
      "outputs": [
        {
          "output_type": "execute_result",
          "data": {
            "application/vnd.google.colaboratory.intrinsic+json": {
              "type": "string"
            },
            "text/plain": [
              "'March'"
            ]
          },
          "metadata": {},
          "execution_count": 27
        }
      ]
    },
    {
      "cell_type": "code",
      "source": [
        "# Method 2: Functions and Lambdas\n",
        "def zero():\n",
        "    return 'zero'\n",
        "def one():\n",
        "    return 'one'\n",
        "def example(i):\n",
        "    switcher={\n",
        "        0:zero,\n",
        "        1:one,\n",
        "        2:lambda:'two'\n",
        "    }\n",
        "\n",
        "    func=switcher.get(i,lambda :\"Invalid\")\n",
        "    return func()\n",
        "\n",
        "print(example(1))\n",
        "print(example(2))\n",
        "print(example(3))\n",
        "print(example(4.4))\n",
        "print(example(1) == \"one\")\n"
      ],
      "metadata": {
        "colab": {
          "base_uri": "https://localhost:8080/"
        },
        "id": "omj0M9_sTn1Y",
        "outputId": "f9494317-bca5-47dc-e0a1-a7d671d3de49"
      },
      "execution_count": null,
      "outputs": [
        {
          "output_type": "stream",
          "name": "stdout",
          "text": [
            "one\n",
            "two\n",
            "Invalid\n",
            "Invalid\n",
            "True\n"
          ]
        }
      ]
    },
    {
      "cell_type": "code",
      "source": [
        "# Method 3: Classes\n",
        "class Switcher(object):\n",
        "    def example(self,i):\n",
        "        method_name='number_'+str(i)\n",
        "        method=getattr(self,method_name,lambda :'Invalid')\n",
        "        return method()\n",
        "    def number_0(self):\n",
        "        return 'zero'\n",
        "    def number_1(self):\n",
        "        return 'one'\n",
        "    def number_2(self):\n",
        "        return 'two'\n",
        "\n",
        "\n",
        "s = Switcher()\n",
        "s.example(2)"
      ],
      "metadata": {
        "colab": {
          "base_uri": "https://localhost:8080/",
          "height": 35
        },
        "id": "YgVPci0Cno4w",
        "outputId": "9f7db8f9-95e1-42c5-9e5f-70fe33155369"
      },
      "execution_count": null,
      "outputs": [
        {
          "output_type": "execute_result",
          "data": {
            "application/vnd.google.colaboratory.intrinsic+json": {
              "type": "string"
            },
            "text/plain": [
              "'two'"
            ]
          },
          "metadata": {},
          "execution_count": 31
        }
      ]
    },
    {
      "cell_type": "markdown",
      "source": [
        "## ** Objects"
      ],
      "metadata": {
        "id": "4_irBCshkcGh"
      }
    },
    {
      "cell_type": "markdown",
      "source": [
        "### *** Basics"
      ],
      "metadata": {
        "id": "lWEjTGYsx4Ar"
      }
    },
    {
      "cell_type": "code",
      "source": [
        "print(dir(int()))   # list classes and variables of object\n",
        "help(int)   # "
      ],
      "metadata": {
        "colab": {
          "base_uri": "https://localhost:8080/"
        },
        "id": "tHtjJUr_i2Vm",
        "outputId": "034c5192-04b6-4406-cc99-2649a3b4a94e"
      },
      "execution_count": null,
      "outputs": [
        {
          "output_type": "stream",
          "name": "stdout",
          "text": [
            "['__abs__', '__add__', '__and__', '__bool__', '__ceil__', '__class__', '__delattr__', '__dir__', '__divmod__', '__doc__', '__eq__', '__float__', '__floor__', '__floordiv__', '__format__', '__ge__', '__getattribute__', '__getnewargs__', '__gt__', '__hash__', '__index__', '__init__', '__init_subclass__', '__int__', '__invert__', '__le__', '__lshift__', '__lt__', '__mod__', '__mul__', '__ne__', '__neg__', '__new__', '__or__', '__pos__', '__pow__', '__radd__', '__rand__', '__rdivmod__', '__reduce__', '__reduce_ex__', '__repr__', '__rfloordiv__', '__rlshift__', '__rmod__', '__rmul__', '__ror__', '__round__', '__rpow__', '__rrshift__', '__rshift__', '__rsub__', '__rtruediv__', '__rxor__', '__setattr__', '__sizeof__', '__str__', '__sub__', '__subclasshook__', '__truediv__', '__trunc__', '__xor__', 'bit_length', 'conjugate', 'denominator', 'from_bytes', 'imag', 'numerator', 'real', 'to_bytes']\n",
            "Help on class int in module builtins:\n",
            "\n",
            "class int(object)\n",
            " |  int([x]) -> integer\n",
            " |  int(x, base=10) -> integer\n",
            " |  \n",
            " |  Convert a number or string to an integer, or return 0 if no arguments\n",
            " |  are given.  If x is a number, return x.__int__().  For floating point\n",
            " |  numbers, this truncates towards zero.\n",
            " |  \n",
            " |  If x is not a number or if base is given, then x must be a string,\n",
            " |  bytes, or bytearray instance representing an integer literal in the\n",
            " |  given base.  The literal can be preceded by '+' or '-' and be surrounded\n",
            " |  by whitespace.  The base defaults to 10.  Valid bases are 0 and 2-36.\n",
            " |  Base 0 means to interpret the base from the string as an integer literal.\n",
            " |  >>> int('0b100', base=0)\n",
            " |  4\n",
            " |  \n",
            " |  Methods defined here:\n",
            " |  \n",
            " |  __abs__(self, /)\n",
            " |      abs(self)\n",
            " |  \n",
            " |  __add__(self, value, /)\n",
            " |      Return self+value.\n",
            " |  \n",
            " |  __and__(self, value, /)\n",
            " |      Return self&value.\n",
            " |  \n",
            " |  __bool__(self, /)\n",
            " |      self != 0\n",
            " |  \n",
            " |  __ceil__(...)\n",
            " |      Ceiling of an Integral returns itself.\n",
            " |  \n",
            " |  __divmod__(self, value, /)\n",
            " |      Return divmod(self, value).\n",
            " |  \n",
            " |  __eq__(self, value, /)\n",
            " |      Return self==value.\n",
            " |  \n",
            " |  __float__(self, /)\n",
            " |      float(self)\n",
            " |  \n",
            " |  __floor__(...)\n",
            " |      Flooring an Integral returns itself.\n",
            " |  \n",
            " |  __floordiv__(self, value, /)\n",
            " |      Return self//value.\n",
            " |  \n",
            " |  __format__(self, format_spec, /)\n",
            " |      Default object formatter.\n",
            " |  \n",
            " |  __ge__(self, value, /)\n",
            " |      Return self>=value.\n",
            " |  \n",
            " |  __getattribute__(self, name, /)\n",
            " |      Return getattr(self, name).\n",
            " |  \n",
            " |  __getnewargs__(self, /)\n",
            " |  \n",
            " |  __gt__(self, value, /)\n",
            " |      Return self>value.\n",
            " |  \n",
            " |  __hash__(self, /)\n",
            " |      Return hash(self).\n",
            " |  \n",
            " |  __index__(self, /)\n",
            " |      Return self converted to an integer, if self is suitable for use as an index into a list.\n",
            " |  \n",
            " |  __int__(self, /)\n",
            " |      int(self)\n",
            " |  \n",
            " |  __invert__(self, /)\n",
            " |      ~self\n",
            " |  \n",
            " |  __le__(self, value, /)\n",
            " |      Return self<=value.\n",
            " |  \n",
            " |  __lshift__(self, value, /)\n",
            " |      Return self<<value.\n",
            " |  \n",
            " |  __lt__(self, value, /)\n",
            " |      Return self<value.\n",
            " |  \n",
            " |  __mod__(self, value, /)\n",
            " |      Return self%value.\n",
            " |  \n",
            " |  __mul__(self, value, /)\n",
            " |      Return self*value.\n",
            " |  \n",
            " |  __ne__(self, value, /)\n",
            " |      Return self!=value.\n",
            " |  \n",
            " |  __neg__(self, /)\n",
            " |      -self\n",
            " |  \n",
            " |  __or__(self, value, /)\n",
            " |      Return self|value.\n",
            " |  \n",
            " |  __pos__(self, /)\n",
            " |      +self\n",
            " |  \n",
            " |  __pow__(self, value, mod=None, /)\n",
            " |      Return pow(self, value, mod).\n",
            " |  \n",
            " |  __radd__(self, value, /)\n",
            " |      Return value+self.\n",
            " |  \n",
            " |  __rand__(self, value, /)\n",
            " |      Return value&self.\n",
            " |  \n",
            " |  __rdivmod__(self, value, /)\n",
            " |      Return divmod(value, self).\n",
            " |  \n",
            " |  __repr__(self, /)\n",
            " |      Return repr(self).\n",
            " |  \n",
            " |  __rfloordiv__(self, value, /)\n",
            " |      Return value//self.\n",
            " |  \n",
            " |  __rlshift__(self, value, /)\n",
            " |      Return value<<self.\n",
            " |  \n",
            " |  __rmod__(self, value, /)\n",
            " |      Return value%self.\n",
            " |  \n",
            " |  __rmul__(self, value, /)\n",
            " |      Return value*self.\n",
            " |  \n",
            " |  __ror__(self, value, /)\n",
            " |      Return value|self.\n",
            " |  \n",
            " |  __round__(...)\n",
            " |      Rounding an Integral returns itself.\n",
            " |      Rounding with an ndigits argument also returns an integer.\n",
            " |  \n",
            " |  __rpow__(self, value, mod=None, /)\n",
            " |      Return pow(value, self, mod).\n",
            " |  \n",
            " |  __rrshift__(self, value, /)\n",
            " |      Return value>>self.\n",
            " |  \n",
            " |  __rshift__(self, value, /)\n",
            " |      Return self>>value.\n",
            " |  \n",
            " |  __rsub__(self, value, /)\n",
            " |      Return value-self.\n",
            " |  \n",
            " |  __rtruediv__(self, value, /)\n",
            " |      Return value/self.\n",
            " |  \n",
            " |  __rxor__(self, value, /)\n",
            " |      Return value^self.\n",
            " |  \n",
            " |  __sizeof__(self, /)\n",
            " |      Returns size in memory, in bytes.\n",
            " |  \n",
            " |  __str__(self, /)\n",
            " |      Return str(self).\n",
            " |  \n",
            " |  __sub__(self, value, /)\n",
            " |      Return self-value.\n",
            " |  \n",
            " |  __truediv__(self, value, /)\n",
            " |      Return self/value.\n",
            " |  \n",
            " |  __trunc__(...)\n",
            " |      Truncating an Integral returns itself.\n",
            " |  \n",
            " |  __xor__(self, value, /)\n",
            " |      Return self^value.\n",
            " |  \n",
            " |  bit_length(self, /)\n",
            " |      Number of bits necessary to represent self in binary.\n",
            " |      \n",
            " |      >>> bin(37)\n",
            " |      '0b100101'\n",
            " |      >>> (37).bit_length()\n",
            " |      6\n",
            " |  \n",
            " |  conjugate(...)\n",
            " |      Returns self, the complex conjugate of any int.\n",
            " |  \n",
            " |  to_bytes(self, /, length, byteorder, *, signed=False)\n",
            " |      Return an array of bytes representing an integer.\n",
            " |      \n",
            " |      length\n",
            " |        Length of bytes object to use.  An OverflowError is raised if the\n",
            " |        integer is not representable with the given number of bytes.\n",
            " |      byteorder\n",
            " |        The byte order used to represent the integer.  If byteorder is 'big',\n",
            " |        the most significant byte is at the beginning of the byte array.  If\n",
            " |        byteorder is 'little', the most significant byte is at the end of the\n",
            " |        byte array.  To request the native byte order of the host system, use\n",
            " |        `sys.byteorder' as the byte order value.\n",
            " |      signed\n",
            " |        Determines whether two's complement is used to represent the integer.\n",
            " |        If signed is False and a negative integer is given, an OverflowError\n",
            " |        is raised.\n",
            " |  \n",
            " |  ----------------------------------------------------------------------\n",
            " |  Class methods defined here:\n",
            " |  \n",
            " |  from_bytes(bytes, byteorder, *, signed=False) from builtins.type\n",
            " |      Return the integer represented by the given array of bytes.\n",
            " |      \n",
            " |      bytes\n",
            " |        Holds the array of bytes to convert.  The argument must either\n",
            " |        support the buffer protocol or be an iterable object producing bytes.\n",
            " |        Bytes and bytearray are examples of built-in objects that support the\n",
            " |        buffer protocol.\n",
            " |      byteorder\n",
            " |        The byte order used to represent the integer.  If byteorder is 'big',\n",
            " |        the most significant byte is at the beginning of the byte array.  If\n",
            " |        byteorder is 'little', the most significant byte is at the end of the\n",
            " |        byte array.  To request the native byte order of the host system, use\n",
            " |        `sys.byteorder' as the byte order value.\n",
            " |      signed\n",
            " |        Indicates whether two's complement is used to represent the integer.\n",
            " |  \n",
            " |  ----------------------------------------------------------------------\n",
            " |  Static methods defined here:\n",
            " |  \n",
            " |  __new__(*args, **kwargs) from builtins.type\n",
            " |      Create and return a new object.  See help(type) for accurate signature.\n",
            " |  \n",
            " |  ----------------------------------------------------------------------\n",
            " |  Data descriptors defined here:\n",
            " |  \n",
            " |  denominator\n",
            " |      the denominator of a rational number in lowest terms\n",
            " |  \n",
            " |  imag\n",
            " |      the imaginary part of a complex number\n",
            " |  \n",
            " |  numerator\n",
            " |      the numerator of a rational number in lowest terms\n",
            " |  \n",
            " |  real\n",
            " |      the real part of a complex number\n",
            "\n"
          ]
        }
      ]
    },
    {
      "cell_type": "code",
      "source": [
        ""
      ],
      "metadata": {
        "id": "9pO1QeY9xZwL"
      },
      "execution_count": null,
      "outputs": []
    },
    {
      "cell_type": "markdown",
      "source": [
        "## ** Functions"
      ],
      "metadata": {
        "id": "YkQw5fYeko-H"
      }
    },
    {
      "cell_type": "code",
      "source": [
        "import numpy as np\n",
        "\n",
        "def flip(flips, trials):\n",
        "    return np.random.randint(0, 2, size=(trials, flips))\n",
        "\n",
        "flip(4,3)"
      ],
      "metadata": {
        "colab": {
          "base_uri": "https://localhost:8080/"
        },
        "id": "fZDot0qZkryt",
        "outputId": "f9a51808-7100-4415-c3d5-e3c24059fc87"
      },
      "execution_count": null,
      "outputs": [
        {
          "output_type": "execute_result",
          "data": {
            "text/plain": [
              "array([[0, 1, 0, 1],\n",
              "       [1, 1, 0, 0],\n",
              "       [1, 0, 1, 1]])"
            ]
          },
          "metadata": {},
          "execution_count": 1
        }
      ]
    },
    {
      "cell_type": "markdown",
      "source": [
        "## ** Functional Language Functions"
      ],
      "metadata": {
        "id": "NmAbHaHgWjNs"
      }
    },
    {
      "cell_type": "code",
      "source": [
        "# STUBS\n",
        "### *** map()\n",
        "### *** filter()\n",
        "### *** reduce()"
      ],
      "metadata": {
        "id": "vfppUggtWoWX"
      },
      "execution_count": null,
      "outputs": []
    },
    {
      "cell_type": "code",
      "source": [
        "#  sum lists by element - https://therenegadecoder.com/code/how-to-sum-elements-of-two-lists-in-python/\n",
        "a = [3,0,0,1]\n",
        "b = [7,0,1,0]\n",
        "c = [22,1,0,1]\n",
        "\n",
        "# Method A\n",
        "\n",
        "# Method B\n",
        "methB = [x + y + z for x, y, z in zip(a, b, c)]\n",
        "print(methB)\n",
        "\n",
        "# Method C\n",
        "import operator\n",
        "methC = list(map(operator.add, a, b)) # only works w/ two lists at a time. \"list() used to view map object\"\n",
        "print(methC)\n",
        "\n",
        "# Method D (mine)\n",
        "methD = list(map(lambda pair: sum(pair), zip(a, b, c)))\n",
        "print(methD)"
      ],
      "metadata": {
        "colab": {
          "base_uri": "https://localhost:8080/"
        },
        "id": "OxBHLIiU_Lr_",
        "outputId": "926913d5-1490-4a43-8d5c-eb6bd6e41386"
      },
      "execution_count": null,
      "outputs": [
        {
          "output_type": "stream",
          "name": "stdout",
          "text": [
            "[32, 1, 1, 2]\n",
            "[10, 0, 1, 1]\n",
            "[32, 1, 1, 2]\n"
          ]
        }
      ]
    },
    {
      "cell_type": "markdown",
      "source": [
        "### *** lambda\n",
        "# https://realpython.com/python-lambda/\n"
      ],
      "metadata": {
        "id": "qCNSWkQa8ZG9"
      }
    },
    {
      "cell_type": "code",
      "source": [
        "# Anonymous Functions\n",
        "# https://www.geeksforgeeks.org/python-lambda-anonymous-functions-filter-map-reduce/ (STUB)\n",
        "# https://realpython.com/python-lambda/ (STUB)\n",
        "# Sum lists, unknown number of arguments\n",
        "# custom_function = lambda *args: reduce(lambda x, y: x and y, args, True)\n",
        "custom_function = lambda *args: sum(args)\n",
        "custom_function(1, 2, 3, 0)\n",
        "\n",
        "# custom_function = lambda *args: "
      ],
      "metadata": {
        "colab": {
          "base_uri": "https://localhost:8080/"
        },
        "id": "6-2UE74LXHsY",
        "outputId": "b4790e7f-bf72-4082-b138-e9449e9b580e"
      },
      "execution_count": null,
      "outputs": [
        {
          "output_type": "execute_result",
          "data": {
            "text/plain": [
              "6"
            ]
          },
          "metadata": {},
          "execution_count": 126
        }
      ]
    },
    {
      "cell_type": "code",
      "source": [
        "(lambda x: x + 1)(2)"
      ],
      "metadata": {
        "colab": {
          "base_uri": "https://localhost:8080/"
        },
        "id": "IHrAVto3XYOQ",
        "outputId": "e0c4ee10-3bee-44f4-883d-3f5c0b29c423"
      },
      "execution_count": null,
      "outputs": [
        {
          "output_type": "execute_result",
          "data": {
            "text/plain": [
              "3"
            ]
          },
          "metadata": {},
          "execution_count": 127
        }
      ]
    },
    {
      "cell_type": "code",
      "source": [
        "full_name = lambda first, last: f'Full name: {first.title()} {last.title()}'    # Python modern strings\n",
        "full_name('guido', 'van rossum')\n",
        "'Full name: Guido Van Rossum'"
      ],
      "metadata": {
        "colab": {
          "base_uri": "https://localhost:8080/",
          "height": 35
        },
        "id": "1b2d-4MdYSMl",
        "outputId": "542862e2-249f-4c25-96e1-2e7c4d7a7176"
      },
      "execution_count": null,
      "outputs": [
        {
          "output_type": "execute_result",
          "data": {
            "application/vnd.google.colaboratory.intrinsic+json": {
              "type": "string"
            },
            "text/plain": [
              "'Full name: Guido Van Rossum'"
            ]
          },
          "metadata": {},
          "execution_count": 128
        }
      ]
    },
    {
      "cell_type": "code",
      "source": [
        "# lambda x, y: x + y\n",
        "# _(1, 2)\n",
        "_"
      ],
      "metadata": {
        "colab": {
          "base_uri": "https://localhost:8080/",
          "height": 35
        },
        "id": "oRowuOcbYsW1",
        "outputId": "6c159765-186e-4311-f4f4-483a0a7c04f2"
      },
      "execution_count": null,
      "outputs": [
        {
          "output_type": "execute_result",
          "data": {
            "application/vnd.google.colaboratory.intrinsic+json": {
              "type": "string"
            },
            "text/plain": [
              "'Full name: Guido Van Rossum'"
            ]
          },
          "metadata": {},
          "execution_count": 132
        }
      ]
    },
    {
      "cell_type": "markdown",
      "source": [
        "## ** Variables, arguments, etc."
      ],
      "metadata": {
        "id": "RzudQim387g4"
      }
    },
    {
      "cell_type": "code",
      "source": [
        "# return elements of an iterator as arguments for a function\n",
        "# https://stackoverflow.com/questions/3941517/converting-list-to-args-when-calling-function/3941529\n",
        "# https://docs.python.org/3/reference/expressions.html#calls\n",
        "a = [1, 2, 3, 4, 5]\n",
        "b = [2, 2, 9, 0, 9]\n",
        "c = [3, 2, 12, 0, 9]\n",
        "d = [a,b,c]\n",
        "print(*d)   # <----- Expands iterator\n",
        "\n",
        "# Methods B and C\n",
        "# https://stackoverflow.com/questions/3790848/fastest-way-to-convert-an-iterator-to-a-list\n",
        "s = set(\"geeks\")\n",
        "print(type(s))\n",
        "for x in s:\n",
        "    print(x)\n",
        "\n",
        "# Method B\n",
        "print([*s])    # <--- expands as a list first ???\n",
        "# Method C\n",
        "list(s)"
      ],
      "metadata": {
        "colab": {
          "base_uri": "https://localhost:8080/"
        },
        "id": "Qc_FLK6g8-Nn",
        "outputId": "6143fdf3-6833-41cb-f46f-cec0435ef93b"
      },
      "execution_count": null,
      "outputs": [
        {
          "output_type": "stream",
          "name": "stdout",
          "text": [
            "[1, 2, 3, 4, 5] [2, 2, 9, 0, 9] [3, 2, 12, 0, 9]\n",
            "<class 'set'>\n",
            "k\n",
            "s\n",
            "g\n",
            "e\n",
            "['k', 's', 'g', 'e']\n"
          ]
        },
        {
          "output_type": "execute_result",
          "data": {
            "text/plain": [
              "['k', 's', 'g', 'e']"
            ]
          },
          "metadata": {},
          "execution_count": 7
        }
      ]
    },
    {
      "cell_type": "markdown",
      "source": [
        "## ** Strings"
      ],
      "metadata": {
        "id": "Q9dZZgmNlt48"
      }
    },
    {
      "cell_type": "markdown",
      "source": [
        "### *** Print Strings"
      ],
      "metadata": {
        "id": "NYIyam9ol10D"
      }
    },
    {
      "cell_type": "code",
      "source": [
        "# multiple print statements on same line\n",
        "# https://stackoverflow.com/questions/5598181/multiple-prints-on-the-same-line-in-python\n",
        "# original\n",
        "l = [1,2,3]\n",
        "for _ in l:\n",
        "    print(f\"{_}, \")\n",
        "\n",
        "# Python 3\n",
        "l = [1,2,3]\n",
        "for _ in l:\n",
        "    print(f\"{_}, \", end=\"\")\n",
        "print(\"end\")\n",
        "print(\"end2\")\n"
      ],
      "metadata": {
        "colab": {
          "base_uri": "https://localhost:8080/"
        },
        "id": "0XQeHQIyzuvJ",
        "outputId": "7426ad17-c974-41a6-bdbf-c6f3caec3ffa"
      },
      "execution_count": null,
      "outputs": [
        {
          "output_type": "stream",
          "name": "stdout",
          "text": [
            "1, \n",
            "2, \n",
            "3, \n",
            "1, 2, 3, end\n",
            "end2\n"
          ]
        }
      ]
    },
    {
      "cell_type": "code",
      "source": [
        "# class \"String\" join method.\n",
        "# https://www.geeksforgeeks.org/python-string-join-method/\n",
        "# works on lists, tuples, string, dictionary, set\n",
        "# \"iterable\"\n",
        "d = \",\" # delimitor\n",
        "l = [\"hello\", \"yes\", \"goodbye\", \"last\"]\n",
        "print(d.join(l))"
      ],
      "metadata": {
        "colab": {
          "base_uri": "https://localhost:8080/"
        },
        "id": "0DwsjiJz2hgf",
        "outputId": "12c31419-f3d7-4f96-a1a9-ea2e2b000a6d"
      },
      "execution_count": null,
      "outputs": [
        {
          "output_type": "stream",
          "name": "stdout",
          "text": [
            "hello,yes,goodbye,last\n"
          ]
        }
      ]
    },
    {
      "cell_type": "code",
      "source": [
        "print(\"Hello World\", end=\"\\n\")   # new line: https://www.freecodecamp.org/news/python-new-line-and-how-to-python-print-without-a-newline/"
      ],
      "metadata": {
        "colab": {
          "base_uri": "https://localhost:8080/"
        },
        "id": "dtjrjq0Wl4dS",
        "outputId": "1d4ef7c1-78dc-459b-9382-cbe14f4c6f37"
      },
      "execution_count": null,
      "outputs": [
        {
          "output_type": "stream",
          "name": "stdout",
          "text": [
            "Hello World\n"
          ]
        }
      ]
    },
    {
      "cell_type": "markdown",
      "source": [
        "#### **** https://www.python-course.eu/python3_formatted_output.php"
      ],
      "metadata": {
        "id": "zyQTlM8z8lKy"
      }
    },
    {
      "cell_type": "code",
      "source": [
        "# Old Method using \"printf\"\n",
        "print(\"Art: %5d, Price per Unit: %10.2f\" % (453, 59.085878))    # %[flags][total digits including decimal point, empty spaces padded on left][.digits after decimal]type \n",
        "print(\"The score is %f \" % 3.471698)    # print floating point\n",
        "print(\"%10.3e\"% (356.08977))\n",
        "print(\"%10.3o\"% (25))\n",
        "print(\"%5x\"% (47))  # Hexadecimal"
      ],
      "metadata": {
        "colab": {
          "base_uri": "https://localhost:8080/"
        },
        "id": "eJ7eXjn0_Ad-",
        "outputId": "6cbfc12d-b8ec-4a50-e012-a76346a4ca60"
      },
      "execution_count": null,
      "outputs": [
        {
          "output_type": "stream",
          "name": "stdout",
          "text": [
            "Art:   453, Price per Unit:      59.09\n",
            "The score is 3.471698 \n",
            " 3.561e+02\n",
            "       031\n",
            "   2f\n"
          ]
        }
      ]
    },
    {
      "cell_type": "code",
      "source": [
        "# New Method using \"S.format\"\n",
        "print(\"First argument: {0}, second one: {1}\".format(47,11))\n",
        "print(\"Second argument: {1}, first one: {0}\".format(47,11)) \n",
        "print(\"E.g. of flags, etc.: Second argument: {1:3d}, first one: {0:7.2f}\".format(47.42,11))  # adding flags, precision, etc.\n",
        "print(\"Default Order: First argument: {}, second one: {}\".format(47,11) )  # default order\n",
        "print(\"Reused Precision: various precisions: {0:6.2f} or {0:6.3f}\".format(1.4148))   # reused argument\n",
        "print(\"Left: {0:<20s} {1:6.2f}\".format('Spam & Eggs:', 6.99))     # Left Justify \"<\"\n",
        "print(\"Right: {0:>20s} {1:6.2f}\".format('Spam & Eggs:', 6.99))    # Right Justify \">\""
      ],
      "metadata": {
        "colab": {
          "base_uri": "https://localhost:8080/"
        },
        "id": "7QjvqijzBM26",
        "outputId": "d2c45a71-7f40-465f-cb69-d7cd8e255348"
      },
      "execution_count": null,
      "outputs": [
        {
          "output_type": "stream",
          "name": "stdout",
          "text": [
            "First argument: 47, second one: 11\n",
            "Second argument: 11, first one: 47\n",
            "E.g. of flags, etc.: Second argument:  11, first one:   47.42\n",
            "Default Order: First argument: 47, second one: 11\n",
            "Reused Precision: various precisions:   1.41 or  1.415\n",
            "Left: Spam & Eggs:           6.99\n",
            "Right:         Spam & Eggs:   6.99\n"
          ]
        }
      ]
    },
    {
      "cell_type": "markdown",
      "source": [
        "#### **** Other Examples"
      ],
      "metadata": {
        "id": "x7tW0-fHFmy-"
      }
    },
    {
      "cell_type": "code",
      "source": [
        "# more examples of left, center, right alightment/justify\n",
        "print(\"{0:^16} was founded in {1:<4}!\"\n",
        "        .format(\"GeeksforGeeks\", 2009)) \n",
        "\n",
        "print(\"{:*^20s}\".format(\"Geeks\")) \n",
        "\n",
        "print(\"It is {0:5} degrees outside !\"\n",
        "                        .format(40)) "
      ],
      "metadata": {
        "colab": {
          "base_uri": "https://localhost:8080/"
        },
        "id": "XYKi8JyiETMb",
        "outputId": "ae369c99-634e-4b3c-c20d-933dea7654e4"
      },
      "execution_count": null,
      "outputs": [
        {
          "output_type": "stream",
          "name": "stdout",
          "text": [
            " GeeksforGeeks   was founded in 2009!\n",
            "*******Geeks********\n",
            "It is    40 degrees outside !\n"
          ]
        }
      ]
    },
    {
      "cell_type": "code",
      "source": [
        "# Function prints out values \n",
        "# in an unorganized manner \n",
        "def unorganized(a, b): \n",
        "    for i in range (a, b): \n",
        "        print ( i, i**2, i**3, i**4 ) \n",
        "  \n",
        "# Function prints the organized set of values \n",
        "def organized(a, b): \n",
        "    for i in range (a, b): \n",
        "  \n",
        "        # Using formatters to give 6  \n",
        "        # spaces to each set of values \n",
        "        print(\"{:6d} {:6d} {:6d} {:6d}\"\n",
        "        .format(i, i ** 2, i ** 3, i ** 4)) \n",
        "  \n",
        "# Driver Code \n",
        "n1 = int(input(\"Enter lower range :-\\n\"))   # Requests input from user\n",
        "n2 = int(input(\"Enter upper range :-\\n\")) \n",
        "  \n",
        "print(\"------Before Using Formatters-------\") \n",
        "  \n",
        "# Calling function without formatters \n",
        "unorganized(n1, n2) \n",
        "  \n",
        "print() \n",
        "print(\"-------After Using Formatters---------\") \n",
        "print() \n",
        "  \n",
        "# Calling function that contains \n",
        "# formatters to organize the data \n",
        "organized(n1, n2) "
      ],
      "metadata": {
        "colab": {
          "base_uri": "https://localhost:8080/"
        },
        "id": "kJsaFNPDEyes",
        "outputId": "0736b97a-889c-4c76-c8a3-b574dc84d07b"
      },
      "execution_count": null,
      "outputs": [
        {
          "output_type": "stream",
          "name": "stdout",
          "text": [
            "Enter lower range :-\n",
            "1\n",
            "Enter upper range :-\n",
            "6\n",
            "------Before Using Formatters-------\n",
            "1 1 1 1\n",
            "2 4 8 16\n",
            "3 9 27 81\n",
            "4 16 64 256\n",
            "5 25 125 625\n",
            "\n",
            "-------After Using Formatters---------\n",
            "\n",
            "     1      1      1      1\n",
            "     2      4      8     16\n",
            "     3      9     27     81\n",
            "     4     16     64    256\n",
            "     5     25    125    625\n"
          ]
        }
      ]
    },
    {
      "cell_type": "code",
      "source": [
        "# Dictionary Usage\n",
        "capital_country = {\"United States\" : \"Washington\", \n",
        "                   \"US\" : \"Washington\", \n",
        "                   \"Canada\" : \"Ottawa\",\n",
        "                   \"Germany\": \"Berlin\",\n",
        "                   \"France\" : \"Paris\",\n",
        "                   \"England\" : \"London\",\n",
        "                   \"UK\" : \"London\",\n",
        "                   \"Switzerland\" : \"Bern\",\n",
        "                   \"Austria\" : \"Vienna\",\n",
        "                   \"Netherlands\" : \"Amsterdam\"}\n",
        "\n",
        "print(\"Countries and their capitals:\")\n",
        "for c in capital_country:\n",
        "    format_string = c + \": {\" + c + \"}\" \n",
        "    print(format_string.format(**capital_country))"
      ],
      "metadata": {
        "colab": {
          "base_uri": "https://localhost:8080/"
        },
        "id": "7A57LKD5C3ew",
        "outputId": "9ddb9cf8-c95c-4164-d6cd-f57b6ca3584b"
      },
      "execution_count": null,
      "outputs": [
        {
          "output_type": "stream",
          "name": "stdout",
          "text": [
            "Countries and their capitals:\n",
            "United States: Washington\n",
            "US: Washington\n",
            "Canada: Ottawa\n",
            "Germany: Berlin\n",
            "France: Paris\n",
            "England: London\n",
            "UK: London\n",
            "Switzerland: Bern\n",
            "Austria: Vienna\n",
            "Netherlands: Amsterdam\n"
          ]
        }
      ]
    },
    {
      "cell_type": "code",
      "source": [
        "# print local variables\n",
        "a = 42\n",
        "b = 47\n",
        "def f():\n",
        "    return 42\n",
        "locals()\n",
        "print(\"a={a}, b={b} and f={f}\".format(**locals()))"
      ],
      "metadata": {
        "colab": {
          "base_uri": "https://localhost:8080/"
        },
        "id": "ttbgiwcCDUAq",
        "outputId": "348ac046-2268-4378-f904-49fbe6ddb5b4"
      },
      "execution_count": null,
      "outputs": [
        {
          "output_type": "stream",
          "name": "stdout",
          "text": [
            "a=42, b=47 and f=<function f at 0x7fa3b9ee0170>\n"
          ]
        }
      ]
    },
    {
      "cell_type": "code",
      "source": [
        "# Misc formtting using \"string\" class\n",
        "s = \"Python\"\n",
        "s.center(10)"
      ],
      "metadata": {
        "colab": {
          "base_uri": "https://localhost:8080/",
          "height": 35
        },
        "id": "wuXISi3aDkgq",
        "outputId": "145b2052-6581-4179-fd67-abe9aaa579fa"
      },
      "execution_count": null,
      "outputs": [
        {
          "output_type": "execute_result",
          "data": {
            "application/vnd.google.colaboratory.intrinsic+json": {
              "type": "string"
            },
            "text/plain": [
              "'  Python  '"
            ]
          },
          "metadata": {},
          "execution_count": 44
        }
      ]
    },
    {
      "cell_type": "code",
      "source": [
        "s = \"Training\"\n",
        "s.ljust(12)  "
      ],
      "metadata": {
        "colab": {
          "base_uri": "https://localhost:8080/",
          "height": 35
        },
        "id": "1xJlyUKoD235",
        "outputId": "c66d60be-cfdd-4a4f-9563-b7af1e915b96"
      },
      "execution_count": null,
      "outputs": [
        {
          "output_type": "execute_result",
          "data": {
            "application/vnd.google.colaboratory.intrinsic+json": {
              "type": "string"
            },
            "text/plain": [
              "'Training    '"
            ]
          },
          "metadata": {},
          "execution_count": 43
        }
      ]
    },
    {
      "cell_type": "markdown",
      "source": [
        "### *** f-String Literal"
      ],
      "metadata": {
        "id": "opcgjlS5FUHQ"
      }
    },
    {
      "cell_type": "code",
      "source": [
        "# https://www.geeksforgeeks.org/formatted-string-literals-f-strings-python/\n",
        "name = 'Tushar'\n",
        "age = 23\n",
        "print(f\"Hello, My name is {name} and I'm {age} years old.\") "
      ],
      "metadata": {
        "colab": {
          "base_uri": "https://localhost:8080/"
        },
        "id": "me3bHKcSFark",
        "outputId": "8fa195b2-0eb9-4c92-f9f4-29820452b3ab"
      },
      "execution_count": null,
      "outputs": [
        {
          "output_type": "stream",
          "name": "stdout",
          "text": [
            "Hello, My name is Tushar and I'm 23 years old.\n"
          ]
        }
      ]
    },
    {
      "cell_type": "markdown",
      "source": [
        "### *** Misc Strings"
      ],
      "metadata": {
        "id": "MtXzYp32EYsL"
      }
    },
    {
      "cell_type": "code",
      "source": [
        "# https://stackoverflow.com/questions/26236564/invalid-syntax-when-using-find-elemen-by-xpath\n",
        "# Passing strings as arguments\n",
        "print(\"\"\"some text here\"\"\") # triple quotes used to avoid issues w/ single/double quotes, etc."
      ],
      "metadata": {
        "colab": {
          "base_uri": "https://localhost:8080/"
        },
        "id": "Pk7IrdyEEevH",
        "outputId": "8c388d53-6958-4752-d54d-51bdd364b313"
      },
      "execution_count": null,
      "outputs": [
        {
          "output_type": "stream",
          "name": "stdout",
          "text": [
            "some text here\n"
          ]
        }
      ]
    },
    {
      "cell_type": "code",
      "source": [
        "# https://stackoverflow.com/questions/6633523/how-can-i-convert-a-string-with-dot-and-comma-into-a-float-in-python/6633912\n",
        "# casting type text numbers with commas as a number.\n",
        "from locale import atof, setlocale, LC_NUMERIC\n",
        "setlocale(LC_NUMERIC, '') # set to your default locale; for me this is\n",
        "# 'English_Canada.1252'. Or you could explicitly specify a locale in which floats\n",
        "# are formatted the way that you describe, if that's not how your locale works :)\n",
        "atof('123,456') # 123456.0\n",
        "# To demonstrate, let's explicitly try a locale in which the comma is a\n",
        "# decimal point:\n",
        "# setlocale(LC_NUMERIC, 'French_Canada.1252') # removed due to error\n",
        "print(atof('123,456')) # 123.456"
      ],
      "metadata": {
        "colab": {
          "base_uri": "https://localhost:8080/"
        },
        "id": "ez9f3q7kGi81",
        "outputId": "84eff160-6cf1-47e3-9db3-0c7a11c25041"
      },
      "execution_count": null,
      "outputs": [
        {
          "output_type": "stream",
          "name": "stdout",
          "text": [
            "123456.0\n"
          ]
        }
      ]
    },
    {
      "cell_type": "markdown",
      "source": [
        "### *** STUB"
      ],
      "metadata": {
        "id": "TGdI3XpmDb7Z"
      }
    },
    {
      "cell_type": "code",
      "source": [
        "# Substrings : \n",
        "# https://www.dotnetperls.com/substring-python\n",
        "# https://developers.google.com/edu/python/strings\n",
        "\n",
        "# https://stackoverflow.com/questions/11279331/what-does-the-u-symbol-mean-in-front-of-string-values\n",
        "# sentence = nlp(u'The quick-brown-fox jumps over the lazy dog. The quick brown fox eats well. \\\n",
        "#                the quickbrownfox is dead. the dog misses the quick brownfox')\n",
        "# Creates a UNICODE string, also uses the \"\\\"\n",
        "# Format float values to \"n\" places.\n",
        "#    http://randlet.com/blog/python-significant-figures-format/\n",
        "# Constants: https://docs.python.org/3/library/string.html"
      ],
      "metadata": {
        "id": "Lz7FdVZVDfix"
      },
      "execution_count": null,
      "outputs": []
    },
    {
      "cell_type": "code",
      "source": [
        "# Printing strings using % sign\n",
        "# https://www.learnpython.org/en/String_Formatting\n",
        "# https://realpython.com/python-formatted-output/     *** many good examples ***\n",
        "# %s - String (or any object with a string representation, like numbers)\n",
        "# %d - Decimal Integers\n",
        "# %f or %F - Floating point numbers\n",
        "# %.<number of digits>f - Floating point numbers with a fixed amount of digits to the right of the dot.\n",
        "# %x/%X - Integers in hex representation (lowercase/uppercase)\n",
        "# %b - binary\n",
        "# %c - single character\n",
        "# %e or %E - Exponential\n",
        "# %g or %G - Floating Point or Exponential\n",
        "# %o - Octal\n",
        "# %% - percentage\n",
        "\n",
        "name = \"John\"\n",
        "age = 23\n",
        "print(\"%s is %d years old.\" % (name, age))"
      ],
      "metadata": {
        "colab": {
          "base_uri": "https://localhost:8080/"
        },
        "id": "mYLZeTlODm_B",
        "outputId": "da480a94-b59c-4fc2-ab65-9619ebaccbbe"
      },
      "execution_count": null,
      "outputs": [
        {
          "output_type": "stream",
          "name": "stdout",
          "text": [
            "John is 23 years old.\n"
          ]
        }
      ]
    },
    {
      "cell_type": "code",
      "source": [
        "# exception A\n",
        "x = 1e300 * 1e300\n",
        "print(\"Exept A: \", x)       # inf\n",
        "\n",
        "# exception B\n",
        "print(\"Exept B: \",'{:g}'.format(x))         # inf\n",
        "\n",
        "# exception C\n",
        "print(\"Exept C: \",'{:g}'.format(x * 0))     # nan\n",
        "\n",
        "# exception D\n",
        "print(\"Exept D: \",'{:G}'.format(x))         # INF\n",
        "\n",
        "# exception E\n",
        "print(\"Exept E: \",'{:G}'.format(x * 0))     # NAN"
      ],
      "metadata": {
        "colab": {
          "base_uri": "https://localhost:8080/"
        },
        "id": "2isP046EDw1D",
        "outputId": "9bac8df6-1215-47e6-a082-f19e4480d667"
      },
      "execution_count": null,
      "outputs": [
        {
          "output_type": "stream",
          "name": "stdout",
          "text": [
            "Exept A:  inf\n",
            "Exept B:  inf\n",
            "Exept C:  nan\n",
            "Exept D:  INF\n",
            "Exept E:  NAN\n"
          ]
        }
      ]
    },
    {
      "cell_type": "markdown",
      "source": [
        "## ** Primatives"
      ],
      "metadata": {
        "id": "FKsyPZD8Ewmf"
      }
    },
    {
      "cell_type": "markdown",
      "source": [
        " ### *** Reference"
      ],
      "metadata": {
        "id": "IEdSD91dF7bm"
      }
    },
    {
      "cell_type": "code",
      "source": [
        "# https://www.tutorialspoint.com/python/python_basic_operators.htm\n",
        "# Types of Operators\n",
        "\n",
        "# Arithmetic Operators\n",
        "# Comparison (Relational) Operators\n",
        "# Assignment Operators\n",
        "# Logical Operators\n",
        "# Bitwise Operators\n",
        "# Membership Operators\n",
        "# Identity Operators"
      ],
      "metadata": {
        "id": "Nzas3jDCF_yD"
      },
      "execution_count": null,
      "outputs": []
    },
    {
      "cell_type": "code",
      "source": [
        "# Object Type\n",
        "print(type(\"1\"))    \n",
        "type(\"1\")"
      ],
      "metadata": {
        "colab": {
          "base_uri": "https://localhost:8080/"
        },
        "id": "8PSLx4wvIhwg",
        "outputId": "c3df2edc-7d14-45f7-f2b4-d64b5caa5773"
      },
      "execution_count": null,
      "outputs": [
        {
          "output_type": "stream",
          "name": "stdout",
          "text": [
            "<class 'str'>\n"
          ]
        },
        {
          "output_type": "execute_result",
          "data": {
            "text/plain": [
              "str"
            ]
          },
          "metadata": {},
          "execution_count": 61
        }
      ]
    },
    {
      "cell_type": "code",
      "source": [
        "# Also : https://stackoverflow.com/questions/2225038/determine-the-type-of-an-object?utm_medium=organic&utm_source=google_rich_qa&utm_campaign=google_rich_qa\n",
        "# boolean comparison of types\n",
        "type([]) is list\n",
        "# True\n",
        "type(set()) is set\n",
        "# true\n",
        "type({}) is dict\n",
        "# True\n",
        "type('') is str\n",
        "# True\n",
        "type(0) is int\n",
        "# True\n",
        "type(1.1) is float\n",
        "# true"
      ],
      "metadata": {
        "colab": {
          "base_uri": "https://localhost:8080/"
        },
        "id": "SasdY_EURtx9",
        "outputId": "95b658f5-85bd-4efb-b188-1cbf79a819ec"
      },
      "execution_count": null,
      "outputs": [
        {
          "output_type": "execute_result",
          "data": {
            "text/plain": [
              "True"
            ]
          },
          "metadata": {},
          "execution_count": 112
        }
      ]
    },
    {
      "cell_type": "code",
      "source": [
        "# Types\n",
        "print(type([]))\n",
        "print(type(set()))\n",
        "print(type({}))\n",
        "print(type(''))\n",
        "print(type(0))\n",
        "print(type(0))\n",
        "print(type(1.1))\n",
        "# --- w/o print\n",
        "type(1.1)"
      ],
      "metadata": {
        "colab": {
          "base_uri": "https://localhost:8080/"
        },
        "id": "3U9Xi57KSl6O",
        "outputId": "1104a816-2244-45d9-e110-fabcf8b07a4e"
      },
      "execution_count": null,
      "outputs": [
        {
          "output_type": "stream",
          "name": "stdout",
          "text": [
            "<class 'list'>\n",
            "<class 'set'>\n",
            "<class 'dict'>\n",
            "<class 'str'>\n",
            "<class 'int'>\n",
            "<class 'int'>\n",
            "<class 'float'>\n"
          ]
        },
        {
          "output_type": "execute_result",
          "data": {
            "text/plain": [
              "float"
            ]
          },
          "metadata": {},
          "execution_count": 117
        }
      ]
    },
    {
      "cell_type": "markdown",
      "source": [
        "### *** Lists / Arrays"
      ],
      "metadata": {
        "id": "4VXH_xAwKbmp"
      }
    },
    {
      "cell_type": "code",
      "source": [
        "# http://forums.whirlpool.net.au/archive/1199099\n",
        "# https://www.pythoncentral.io/the-difference-between-a-list-and-an-array/\n",
        "# https://www.geeksforgeeks.org/g-fact-41-multiple-return-values-in-python/\n",
        "# http://thomas-cokelaer.info/tutorials/python/data_structures.html"
      ],
      "metadata": {
        "id": "yRUB2RThIPMx"
      },
      "execution_count": null,
      "outputs": []
    },
    {
      "cell_type": "code",
      "source": [
        "# index of last non-zero element in an array\n",
        "# https://stackoverflow.com/questions/41346403/return-index-of-last-non-zero-element-in-list\n",
        "import numpy as np\n",
        "a = [0,0,1,1,2]     # <--- last 'non-zero' is 4th place, where the '2' is.\n",
        "np.max(np.nonzero(a))"
      ],
      "metadata": {
        "colab": {
          "base_uri": "https://localhost:8080/"
        },
        "id": "KlbtaOUQUWF6",
        "outputId": "f6a6e9a8-df76-4c19-c58a-a58f476dfd50"
      },
      "execution_count": null,
      "outputs": [
        {
          "output_type": "execute_result",
          "data": {
            "text/plain": [
              "4"
            ]
          },
          "metadata": {},
          "execution_count": 5
        }
      ]
    },
    {
      "cell_type": "code",
      "source": [
        "# append lists\n",
        "a = [1,2,3]\n",
        "b = [1, 2, \"a\", 'b']\n",
        "print(type(a))\n",
        "print(type(b))\n",
        "a.append(b) # <---\n",
        "print(a)"
      ],
      "metadata": {
        "colab": {
          "base_uri": "https://localhost:8080/"
        },
        "id": "ktxkyOJ9MIW3",
        "outputId": "34e7c113-4369-42b4-bcb3-bfde716222af"
      },
      "execution_count": null,
      "outputs": [
        {
          "output_type": "stream",
          "name": "stdout",
          "text": [
            "<class 'list'>\n",
            "<class 'list'>\n",
            "[1, 2, 3, [1, 2, 'a', 'b']]\n"
          ]
        }
      ]
    },
    {
      "cell_type": "code",
      "source": [
        "# cast list to set using \"set([list])\"\n",
        "fruit_list = ['Apple', 'Banana', 'Apple', 'Orange']\n",
        "fruit_set = set(fruit_list)     # <-----\n",
        "print(type(fruit_set))\n",
        "print(fruit_set)    # NOTE: Returns RANDOM order since SET elements are stored using HASH."
      ],
      "metadata": {
        "colab": {
          "base_uri": "https://localhost:8080/"
        },
        "id": "geuTaSOeMOw5",
        "outputId": "d9306604-1d7d-4482-fccc-e96d44bdd352"
      },
      "execution_count": null,
      "outputs": [
        {
          "output_type": "stream",
          "name": "stdout",
          "text": [
            "<class 'set'>\n",
            "{'Orange', 'Banana', 'Apple'}\n"
          ]
        }
      ]
    },
    {
      "cell_type": "code",
      "source": [
        "# sum\n",
        "weights = [5, 20, 20, 5, 25, 25]\n",
        "sum(weights)"
      ],
      "metadata": {
        "colab": {
          "base_uri": "https://localhost:8080/"
        },
        "id": "y_GU4Z39TlMA",
        "outputId": "8838e60f-eaa9-48e6-a003-cd2980097f8d"
      },
      "execution_count": null,
      "outputs": [
        {
          "output_type": "execute_result",
          "data": {
            "text/plain": [
              "100"
            ]
          },
          "metadata": {},
          "execution_count": 118
        }
      ]
    },
    {
      "cell_type": "code",
      "source": [
        "# print/return a column in a 2D List\n",
        "# https://www.kite.com/python/answers/how-to-extract-a-column-from-a-multidimensional-array-in-python\n",
        "an_array = [[1,2,3],\n",
        "            [4,5,6],\n",
        "            [7,8,9]]\n",
        "\n",
        "for x in [row[2] for row in an_array]:\n",
        "    print(x)"
      ],
      "metadata": {
        "colab": {
          "base_uri": "https://localhost:8080/"
        },
        "id": "Btyofzrx_qTr",
        "outputId": "52ef8236-17ff-4db5-889d-e076aa8332f4"
      },
      "execution_count": null,
      "outputs": [
        {
          "output_type": "stream",
          "name": "stdout",
          "text": [
            "3\n",
            "6\n",
            "9\n"
          ]
        }
      ]
    },
    {
      "cell_type": "code",
      "source": [
        "# Return a column or row from a 2D list\n",
        "c5train = [[\"19.0_01_07\", 1],  \n",
        "           [\"20.0_01_14\", 2],  \n",
        "           [\"20.0_02_22\", 3],     # <---- Row 2\n",
        "           [\"28.0_02_13\", 3],\n",
        "           [\"29.0_01_11\", 1]]\n",
        "\n",
        "print(c5train[:][:])    # Return all\n",
        "print(c5train[:][2])    # print row 2\n",
        "print(c5train[2][:])    # print row 2 ????\n",
        "\n",
        "# https://stackoverflow.com/questions/903853/how-do-you-extract-a-column-from-a-multi-dimensional-array\n",
        "# Column Return Method A\n",
        "print(list(np.array(c5train).transpose()[0]))  # return column 0)\n",
        "\n",
        "# Column Return Method B\n",
        "import numpy as np\n",
        "print(np.asmatrix(np.array(c5train))[:,0])      # Returns \"numpy matrix\" (2D list)\n",
        "print(type(np.asmatrix(np.array(c5train))[:,0]))\n",
        "\n",
        "# ??? # map(None, *[np.array(c5train)])[0]"
      ],
      "metadata": {
        "colab": {
          "base_uri": "https://localhost:8080/"
        },
        "id": "OlLmYWpPACTR",
        "outputId": "d7aa5d5d-746f-449a-bab2-55ab63bf600a"
      },
      "execution_count": null,
      "outputs": [
        {
          "output_type": "stream",
          "name": "stdout",
          "text": [
            "[['19.0_01_07', 1], ['20.0_01_14', 2], ['20.0_02_22', 3], ['28.0_02_13', 3], ['29.0_01_11', 1]]\n",
            "['20.0_02_22', 3]\n",
            "['20.0_02_22', 3]\n",
            "['19.0_01_07', '20.0_01_14', '20.0_02_22', '28.0_02_13', '29.0_01_11']\n",
            "[['19.0_01_07']\n",
            " ['20.0_01_14']\n",
            " ['20.0_02_22']\n",
            " ['28.0_02_13']\n",
            " ['29.0_01_11']]\n",
            "<class 'numpy.matrix'>\n"
          ]
        }
      ]
    },
    {
      "cell_type": "markdown",
      "source": [
        "### *** sets"
      ],
      "metadata": {
        "id": "oKPjsN0BKfH6"
      }
    },
    {
      "cell_type": "markdown",
      "source": [
        "#### **** Reference\n",
        "https://towardsdatascience.com/python-lists-vs-sets-39bd6b5745e1\n",
        "https://www.datacamp.com/community/tutorials/sets-in-python\n",
        "1. unique values ONLY (no duplicates)\n",
        "2. Order of elements NOT maintained (use of HASH)\n",
        "3. Significantly faster (use of HASH)"
      ],
      "metadata": {
        "id": "62Uqv1KdLRK1"
      }
    },
    {
      "cell_type": "code",
      "source": [
        "# Create Sets\n",
        "s1 = set()\n",
        "print(type(s1))\n",
        "\n",
        "s2 = {'apple', 'banana', 'orange', 'apple'} # NOTE: 2nd instance of 'apple' dropped.\n",
        "print(type(s2))\n",
        "print(s2)"
      ],
      "metadata": {
        "colab": {
          "base_uri": "https://localhost:8080/"
        },
        "id": "pg7tdnvjLplp",
        "outputId": "daf99d78-9050-4eed-d6ca-65756834ecee"
      },
      "execution_count": null,
      "outputs": [
        {
          "output_type": "stream",
          "name": "stdout",
          "text": [
            "<class 'set'>\n",
            "<class 'set'>\n",
            "{'orange', 'apple', 'banana'}\n"
          ]
        }
      ]
    },
    {
      "cell_type": "code",
      "source": [
        "s = set()\n",
        "print(type(s))\n",
        "s.add(1)\n",
        "s"
      ],
      "metadata": {
        "colab": {
          "base_uri": "https://localhost:8080/"
        },
        "id": "xN7Wr9eaKlcr",
        "outputId": "5dab5b26-038b-46b3-deee-e73d8d5970d5"
      },
      "execution_count": null,
      "outputs": [
        {
          "output_type": "stream",
          "name": "stdout",
          "text": [
            "<class 'set'>\n"
          ]
        },
        {
          "output_type": "execute_result",
          "data": {
            "text/plain": [
              "{1}"
            ]
          },
          "metadata": {},
          "execution_count": 83
        }
      ]
    },
    {
      "cell_type": "markdown",
      "source": [
        "### *** tupels"
      ],
      "metadata": {
        "id": "pKzaNwmjRLpw"
      }
    },
    {
      "cell_type": "code",
      "source": [
        "# creat tuple\n",
        "t = (1,2,\"a\")\n",
        "type(t)"
      ],
      "metadata": {
        "colab": {
          "base_uri": "https://localhost:8080/"
        },
        "id": "snsj8eVnROfz",
        "outputId": "7068b610-67e8-4e68-ba60-f10276f2f3b5"
      },
      "execution_count": null,
      "outputs": [
        {
          "output_type": "execute_result",
          "data": {
            "text/plain": [
              "tuple"
            ]
          },
          "metadata": {},
          "execution_count": 101
        }
      ]
    },
    {
      "cell_type": "markdown",
      "source": [
        "### *** Dictionaries"
      ],
      "metadata": {
        "id": "pkQlKnc4RY4P"
      }
    },
    {
      "cell_type": "code",
      "source": [
        "# create dictionary\n",
        "d = {\"a\":1, \"b\":2}\n",
        "print(type(d))\n",
        "d"
      ],
      "metadata": {
        "colab": {
          "base_uri": "https://localhost:8080/"
        },
        "id": "jhZOttBqRbcF",
        "outputId": "af9d7e26-2950-4205-e812-58fd5c6dc83c"
      },
      "execution_count": null,
      "outputs": [
        {
          "output_type": "stream",
          "name": "stdout",
          "text": [
            "<class 'dict'>\n"
          ]
        },
        {
          "output_type": "execute_result",
          "data": {
            "text/plain": [
              "{'a': 1, 'b': 2}"
            ]
          },
          "metadata": {},
          "execution_count": 106
        }
      ]
    },
    {
      "cell_type": "code",
      "source": [
        ""
      ],
      "metadata": {
        "id": "U7Jj4haiTiqU"
      },
      "execution_count": null,
      "outputs": []
    },
    {
      "cell_type": "markdown",
      "source": [
        "# * Classes"
      ],
      "metadata": {
        "id": "7izXEbmaUYJF"
      }
    },
    {
      "cell_type": "markdown",
      "source": [
        "## ** AST : Abstract Syntax Trees"
      ],
      "metadata": {
        "id": "4OMWwNuGUa6M"
      }
    },
    {
      "cell_type": "code",
      "source": [
        "# cast literal text as a list\n",
        "# https://stackoverflow.com/questions/20250396/converting-string-that-looks-like-a-list-into-a-real-list-python\n",
        "import ast\n",
        "a = ast.literal_eval(\"['MI3', 'MI4']\")\n",
        "type(a)"
      ],
      "metadata": {
        "colab": {
          "base_uri": "https://localhost:8080/"
        },
        "id": "BL2mb9_MUevl",
        "outputId": "7b2e4f92-9a3a-4098-f952-30758157aaaf"
      },
      "execution_count": null,
      "outputs": [
        {
          "output_type": "execute_result",
          "data": {
            "text/plain": [
              "list"
            ]
          },
          "metadata": {},
          "execution_count": 121
        }
      ]
    },
    {
      "cell_type": "markdown",
      "source": [
        "## ** Pandas"
      ],
      "metadata": {
        "id": "ixTC8HH_CCsX"
      }
    },
    {
      "cell_type": "code",
      "source": [
        "# create Panda Dataframe\n",
        "# below is duplicated code, except for last line\n",
        "import pandas as pd\n",
        "# Creating\n",
        "## e.g. 1\n",
        "df = pd.DataFrame({\"A\":[34,12,78,84,26], \n",
        "                   \"B\":[54,87,35,25,82], \n",
        "                   \"C\":[56,78,0,14,13], \n",
        "                   \"D\":[0,23,72,56,14], \n",
        "                   \"E\":[78,12,31,0,34]})\n",
        "df.info()   "
      ],
      "metadata": {
        "colab": {
          "base_uri": "https://localhost:8080/"
        },
        "id": "y959Wq0_CE_G",
        "outputId": "8a4578bc-dd99-4b96-dea1-c922ed58acfd"
      },
      "execution_count": null,
      "outputs": [
        {
          "output_type": "stream",
          "name": "stdout",
          "text": [
            "<class 'pandas.core.frame.DataFrame'>\n",
            "RangeIndex: 5 entries, 0 to 4\n",
            "Data columns (total 5 columns):\n",
            " #   Column  Non-Null Count  Dtype\n",
            "---  ------  --------------  -----\n",
            " 0   A       5 non-null      int64\n",
            " 1   B       5 non-null      int64\n",
            " 2   C       5 non-null      int64\n",
            " 3   D       5 non-null      int64\n",
            " 4   E       5 non-null      int64\n",
            "dtypes: int64(5)\n",
            "memory usage: 328.0 bytes\n"
          ]
        }
      ]
    },
    {
      "cell_type": "markdown",
      "source": [
        "# IDE Specific"
      ],
      "metadata": {
        "id": "dKaGAKL4b51x"
      }
    },
    {
      "cell_type": "markdown",
      "source": [
        "## Google Colab"
      ],
      "metadata": {
        "id": "zmRZDv1jb_IY"
      }
    },
    {
      "cell_type": "markdown",
      "source": [
        "### *** Save Dataframe as CSV\n",
        "### https://cyublog.com/articles/python-en/colab-pandas-three-ways-to-save-dataframe-data/\n"
      ],
      "metadata": {
        "id": "ZZT8D6H1cAya"
      }
    },
    {
      "cell_type": "code",
      "source": [
        "# Download CSV\n",
        "import pandas as pd\n",
        "df = pd.DataFrame({\"A\":[34,12], \n",
        "                   \"B\":[54,87]})\n",
        "\n",
        "from google.colab import files\n",
        "\n",
        "df.to_csv('output.csv', encoding = 'utf-8-sig') \n",
        "files.download('output.csv') "
      ],
      "metadata": {
        "colab": {
          "base_uri": "https://localhost:8080/",
          "height": 17
        },
        "id": "H6qDPihbcQst",
        "outputId": "d498df42-63d2-42e4-d00f-55a304d37960"
      },
      "execution_count": 4,
      "outputs": [
        {
          "output_type": "display_data",
          "data": {
            "application/javascript": [
              "\n",
              "    async function download(id, filename, size) {\n",
              "      if (!google.colab.kernel.accessAllowed) {\n",
              "        return;\n",
              "      }\n",
              "      const div = document.createElement('div');\n",
              "      const label = document.createElement('label');\n",
              "      label.textContent = `Downloading \"${filename}\": `;\n",
              "      div.appendChild(label);\n",
              "      const progress = document.createElement('progress');\n",
              "      progress.max = size;\n",
              "      div.appendChild(progress);\n",
              "      document.body.appendChild(div);\n",
              "\n",
              "      const buffers = [];\n",
              "      let downloaded = 0;\n",
              "\n",
              "      const channel = await google.colab.kernel.comms.open(id);\n",
              "      // Send a message to notify the kernel that we're ready.\n",
              "      channel.send({})\n",
              "\n",
              "      for await (const message of channel.messages) {\n",
              "        // Send a message to notify the kernel that we're ready.\n",
              "        channel.send({})\n",
              "        if (message.buffers) {\n",
              "          for (const buffer of message.buffers) {\n",
              "            buffers.push(buffer);\n",
              "            downloaded += buffer.byteLength;\n",
              "            progress.value = downloaded;\n",
              "          }\n",
              "        }\n",
              "      }\n",
              "      const blob = new Blob(buffers, {type: 'application/binary'});\n",
              "      const a = document.createElement('a');\n",
              "      a.href = window.URL.createObjectURL(blob);\n",
              "      a.download = filename;\n",
              "      div.appendChild(a);\n",
              "      a.click();\n",
              "      div.remove();\n",
              "    }\n",
              "  "
            ],
            "text/plain": [
              "<IPython.core.display.Javascript object>"
            ]
          },
          "metadata": {}
        },
        {
          "output_type": "display_data",
          "data": {
            "application/javascript": [
              "download(\"download_03a9de2b-d02b-4d7f-ac57-362999482204\", \"output.csv\", 24)"
            ],
            "text/plain": [
              "<IPython.core.display.Javascript object>"
            ]
          },
          "metadata": {}
        }
      ]
    },
    {
      "cell_type": "code",
      "source": [
        "# Save CSV to Google Drive\n",
        "import pandas as pd\n",
        "df = pd.DataFrame({\"A\":[34,12], \n",
        "                   \"B\":[54,87]})\n",
        "\n",
        "from google.colab import drive\n",
        "\n",
        "drive.mount('/content/drive')\n",
        "path = '/content/drive/MyDrive/output.csv'\n",
        "\n",
        "with open(path, 'w', encoding = 'utf-8-sig') as f:\n",
        "  df.to_csv(f)"
      ],
      "metadata": {
        "colab": {
          "base_uri": "https://localhost:8080/"
        },
        "id": "LePtwnSHcjNa",
        "outputId": "ba677478-4b04-48de-ce7d-3816e2444f22"
      },
      "execution_count": 3,
      "outputs": [
        {
          "output_type": "stream",
          "name": "stdout",
          "text": [
            "Mounted at /content/drive\n"
          ]
        }
      ]
    },
    {
      "cell_type": "code",
      "source": [
        "# Save CSV to Google Drive as Google Spreadsheet\n",
        "# ERROR: https://stackoverflow.com/questions/48928972/fcm-http-v1-api-returns-404-for-unregistered-token\n",
        "import pandas as pd\n",
        "df = pd.DataFrame({\"A\":[34,12], \n",
        "                   \"B\":[54,87]})\n",
        "\n",
        "!pip install gspread\n",
        "\n",
        "from google.colab import auth\n",
        "from oauth2client.client import GoogleCredentials\n",
        "import gspread\n",
        "# import pandas as pd # redundant\n",
        "\n",
        "# Auth\n",
        "auth.authenticate_user()\n",
        "gc = gspread.authorize(GoogleCredentials.get_application_default())\n",
        "\n",
        "spreadsheet_key = 'my_spreadsheet_key'\n",
        "workbook = gc.open_by_key(spreadsheet_key)\n",
        "\n",
        "workbook.values_update(\n",
        "  'sheet!A1',\n",
        "  params={\n",
        "      'valueInputOption': 'USER_ENTERED'\n",
        "  },\n",
        "  body={\n",
        "      'values': [df.columns.values.tolist()] + df.values.tolist()\n",
        "  }\n",
        ")"
      ],
      "metadata": {
        "id": "5YSNOA0rdc5C"
      },
      "execution_count": null,
      "outputs": []
    },
    {
      "cell_type": "code",
      "source": [
        "### *** Concatenate and Append Dataframes\n",
        "### https://colab.research.google.com/github/jakevdp/PythonDataScienceHandbook/blob/master/notebooks/03.06-Concat-And-Append.ipynb"
      ],
      "metadata": {
        "id": "GRQTdfrsirg4"
      },
      "execution_count": 6,
      "outputs": []
    },
    {
      "cell_type": "markdown",
      "source": [
        "# * TO SORT / MISC"
      ],
      "metadata": {
        "id": "5uxVjGnkVRvY"
      }
    },
    {
      "cell_type": "code",
      "source": [
        "# STUB : Underscore\n",
        "# https://www.geeksforgeeks.org/underscore-_-python/"
      ],
      "metadata": {
        "id": "vCdD3CpeVVdT"
      },
      "execution_count": null,
      "outputs": []
    },
    {
      "cell_type": "code",
      "source": [
        "\"\"\" Tic Tac Toe\n",
        "----------------------------------------\n",
        "\"\"\"\n",
        "import random\n",
        "import sys\n",
        "board=[i for i in range(0,9)]\n",
        "player, computer = '',''\n",
        "# // Corners, Center and Others, respectively\n",
        "moves=((1,7,3,9),(5,),(2,4,6,8))\n",
        "# // Winner combinations\n",
        "winners=((0,1,2),(3,4,5),(6,7,8),(0,3,6),(1,4,7),(2,5,8),(0,4,8),(2,4,6))\n",
        "# // Table\n",
        "tab=range(1,10)\n",
        "def print_board():\n",
        "    x=1\n",
        "    for i in board:\n",
        "        end = ' | '\n",
        "        if x%3 == 0:\n",
        "            end = ' \\n'\n",
        "            if i != 1: end+='---------\\n';\n",
        "        char=' '\n",
        "        if i in ('X','O'): char=i;\n",
        "        x+=1\n",
        "        print(char,end=end)\n",
        "def select_char():\n",
        "    chars=('X','O')\n",
        "    if random.randint(0,1) == 0:\n",
        "        return chars[::-1]\n",
        "    return chars\n",
        "def can_move(brd, player, move):\n",
        "    if move in tab and brd[move-1] == move-1:\n",
        "        return True\n",
        "    return False\n",
        "def can_win(brd, player, move):\n",
        "    places=[]\n",
        "    x=0\n",
        "    for i in brd:\n",
        "        if i == player: places.append(x);\n",
        "        x+=1\n",
        "    win=True\n",
        "    for tup in winners:\n",
        "        win=True\n",
        "        for ix in tup:\n",
        "            if brd[ix] != player:\n",
        "                win=False\n",
        "                break\n",
        "        if win == True:\n",
        "            break\n",
        "    return win\n",
        "def make_move(brd, player, move, undo=False):\n",
        "    if can_move(brd, player, move):\n",
        "        brd[move-1] = player\n",
        "        win=can_win(brd, player, move)\n",
        "        if undo:\n",
        "            brd[move-1] = move-1\n",
        "        return (True, win)\n",
        "    return (False, False)\n",
        "# // AI goes here\n",
        "def computer_move():\n",
        "    move=-1\n",
        "    # // If I can win, others do not matter.\n",
        "    for i in range(1,10):\n",
        "        if make_move(board, computer, i, True)[1]:\n",
        "            move=i\n",
        "            break\n",
        "    if move == -1:\n",
        "    #    // If player can win, block him.\n",
        "        for i in range(1,10):\n",
        "            if make_move(board, player, i, True)[1]:\n",
        "                move=i\n",
        "                break\n",
        "    if move == -1:\n",
        "        # // Otherwise, try to take one of desired places.\n",
        "        for tup in moves:\n",
        "            for mv in tup:\n",
        "                if move == -1 and can_move(board, computer, mv):\n",
        "                    move=mv\n",
        "                    break\n",
        "    return make_move(board, computer, move)\n",
        "def space_exist():\n",
        "    return board.count('X') + board.count('O') != 9\n",
        "player, computer = select_char()\n",
        "print('Player is [%s] and computer is [%s]' % (player, computer))\n",
        "result='%%% Deuce ! %%%'\n",
        "while space_exist():\n",
        "    print_board()\n",
        "    print('#Make your move ! [1-9] : ', end='')\n",
        "    move = int(input())\n",
        "    moved, won = make_move(board, player, move)\n",
        "    if not moved:\n",
        "        print(' >> Invalid number ! Try again !')\n",
        "        continue\n",
        "    # //\n",
        "    if won:\n",
        "        result='*** Congratulations ! You won ! ***'\n",
        "        break\n",
        "    elif computer_move()[1]:\n",
        "        result='=== You lose ! =='\n",
        "        break;\n",
        "print_board()\n",
        "print(result)"
      ],
      "metadata": {
        "colab": {
          "base_uri": "https://localhost:8080/"
        },
        "id": "i9V4_PNIuMcU",
        "outputId": "d1930d0f-5239-416b-c49d-117ae699e86a"
      },
      "execution_count": null,
      "outputs": [
        {
          "output_type": "stream",
          "name": "stdout",
          "text": [
            "Player is [X] and computer is [O]\n",
            "  |   |   \n",
            "---------\n",
            "  |   |   \n",
            "---------\n",
            "  |   |   \n",
            "---------\n",
            "#Make your move ! [1-9] : 1\n",
            "X |   |   \n",
            "---------\n",
            "  |   |   \n",
            "---------\n",
            "O |   |   \n",
            "---------\n",
            "#Make your move ! [1-9] : 5\n",
            "X |   |   \n",
            "---------\n",
            "  | X |   \n",
            "---------\n",
            "O |   | O \n",
            "---------\n",
            "#Make your move ! [1-9] : 8\n",
            "X | O |   \n",
            "---------\n",
            "  | X |   \n",
            "---------\n",
            "O | X | O \n",
            "---------\n",
            "#Make your move ! [1-9] : 6\n",
            "X | O |   \n",
            "---------\n",
            "O | X | X \n",
            "---------\n",
            "O | X | O \n",
            "---------\n",
            "#Make your move ! [1-9] : 3\n",
            "X | O | X \n",
            "---------\n",
            "O | X | X \n",
            "---------\n",
            "O | X | O \n",
            "---------\n",
            "%%% Deuce ! %%%\n"
          ]
        }
      ]
    }
  ]
}