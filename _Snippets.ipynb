{
  "nbformat": 4,
  "nbformat_minor": 0,
  "metadata": {
    "colab": {
      "name": "_Snippets.ipynb",
      "provenance": [],
      "collapsed_sections": [
        "ZYraNen1kvyn",
        "VlgOvLu9k0b3",
        "9tINSBCTlZM5"
      ],
      "authorship_tag": "ABX9TyMv5kQiCU4/oxoX1gaR39pe",
      "include_colab_link": true
    },
    "kernelspec": {
      "name": "python3",
      "display_name": "Python 3"
    },
    "language_info": {
      "name": "python"
    }
  },
  "cells": [
    {
      "cell_type": "markdown",
      "metadata": {
        "id": "view-in-github",
        "colab_type": "text"
      },
      "source": [
        "<a href=\"https://colab.research.google.com/github/RoyEHamlin/Code-Snippets/blob/main/_Snippets.ipynb\" target=\"_parent\"><img src=\"https://colab.research.google.com/assets/colab-badge.svg\" alt=\"Open In Colab\"/></a>"
      ]
    },
    {
      "cell_type": "markdown",
      "metadata": {
        "id": "-jmGEV6oY9Jc"
      },
      "source": [
        "# _Code Snippets (General)"
      ]
    },
    {
      "cell_type": "markdown",
      "metadata": {
        "id": "zC8NGHhrZA1j"
      },
      "source": [
        "###### Print Line (of Markdown)"
      ]
    },
    {
      "cell_type": "code",
      "metadata": {
        "colab": {
          "base_uri": "https://localhost:8080/"
        },
        "id": "s_4rcwEqYz1k",
        "outputId": "6b6b348e-bef3-449b-8c4f-7a2a2d763100"
      },
      "source": [
        "# Print Line\n",
        "print('here this is')"
      ],
      "execution_count": null,
      "outputs": [
        {
          "output_type": "stream",
          "name": "stdout",
          "text": [
            "here this is\n"
          ]
        }
      ]
    },
    {
      "cell_type": "markdown",
      "metadata": {
        "id": "ZYraNen1kvyn"
      },
      "source": [
        "### Quantra"
      ]
    },
    {
      "cell_type": "markdown",
      "metadata": {
        "id": "VlgOvLu9k0b3"
      },
      "source": [
        "#### Load Ta-Lib SOLUTION"
      ]
    },
    {
      "cell_type": "code",
      "metadata": {
        "colab": {
          "base_uri": "https://localhost:8080/"
        },
        "id": "lBQzQ7Qxk667",
        "outputId": "9abb4795-ef46-4d1a-f574-f312cfa070e7"
      },
      "source": [
        "# Load Ta-Lib : https://stackoverflow.com/questions/49648391/how-to-install-ta-lib-in-google-colab#49660479\n",
        "url = 'https://anaconda.org/conda-forge/libta-lib/0.4.0/download/linux-64/libta-lib-0.4.0-h516909a_0.tar.bz2'\n",
        "!curl -L $url | tar xj -C /usr/lib/x86_64-linux-gnu/ lib --strip-components=1\n",
        "url = 'https://anaconda.org/conda-forge/ta-lib/0.4.19/download/linux-64/ta-lib-0.4.19-py37ha21ca33_2.tar.bz2'\n",
        "!curl -L $url | tar xj -C /usr/local/lib/python3.7/dist-packages/ lib/python3.7/site-packages/talib --strip-components=3\n",
        "import talib\n",
        "\n",
        "# Additional References\n",
        "## https://blog.quantinsti.com/install-ta-lib-python/"
      ],
      "execution_count": null,
      "outputs": [
        {
          "output_type": "stream",
          "name": "stdout",
          "text": [
            "  % Total    % Received % Xferd  Average Speed   Time    Time     Time  Current\n",
            "                                 Dload  Upload   Total   Spent    Left  Speed\n",
            "100  3753    0  3753    0     0   6448      0 --:--:-- --:--:-- --:--:--  6437\n",
            "100  503k  100  503k    0     0   308k      0  0:00:01  0:00:01 --:--:-- 1778k\n",
            "  % Total    % Received % Xferd  Average Speed   Time    Time     Time  Current\n",
            "                                 Dload  Upload   Total   Spent    Left  Speed\n",
            "100  3773    0  3773    0     0   8815      0 --:--:-- --:--:-- --:--:--  8815\n",
            "100  406k  100  406k    0     0   339k      0  0:00:01  0:00:01 --:--:--  697k\n"
          ]
        }
      ]
    },
    {
      "cell_type": "markdown",
      "metadata": {
        "id": "9tINSBCTlZM5"
      },
      "source": [
        "### Google Drive"
      ]
    },
    {
      "cell_type": "code",
      "metadata": {
        "colab": {
          "base_uri": "https://localhost:8080/"
        },
        "id": "W6FQlxMZldzz",
        "outputId": "df1c7d4e-af0d-4e3b-867d-0a4ab535cf42"
      },
      "source": [
        "#### Load local folders for project\n",
        "# https://stackoverflow.com/questions/52466839/colab-error-modulenotfounderror-no-module-named\n",
        "from google.colab import drive\n",
        "drive.mount('/content/drive')\n",
        "# Mount drive w/ key here\n",
        "%cd /content/drive/My\\ Drive/Colab\\ Notebooks/Quantra/Intro-to-RL-and-Deep-Q-Network\n",
        "# List files to make sure we're in the expected directory.\n",
        "# Your output will look different, showing your own Drive files here.\n",
        "!ls"
      ],
      "execution_count": null,
      "outputs": [
        {
          "output_type": "stream",
          "name": "stdout",
          "text": [
            "Mounted at /content/drive\n",
            "[Errno 2] No such file or directory: '/content/drive/My Drive/Colab Notebooks/Quantra/Intro-to-RL-and-Deep-Q-Network'\n",
            "/content\n",
            "drive  sample_data\n"
          ]
        }
      ]
    },
    {
      "cell_type": "markdown",
      "metadata": {
        "id": "68wP9N6ZmRgq"
      },
      "source": [
        "### Packages"
      ]
    },
    {
      "cell_type": "code",
      "metadata": {
        "colab": {
          "base_uri": "https://localhost:8080/"
        },
        "id": "3_Gg1AYSmT3o",
        "outputId": "084250bc-091c-4292-dbda-adbaa2c46185"
      },
      "source": [
        "#### Install Packages with % instead of !\n",
        "# https://stackoverflow.com/questions/51342408/how-do-i-install-python-packages-in-googles-colab#answer-61212861\n",
        "# https://stackoverflow.com/questions/63433405/colab-error-modulenotfounderror-no-module-named-geopandas\n",
        "% pip install geopandas"
      ],
      "execution_count": 10,
      "outputs": [
        {
          "output_type": "stream",
          "name": "stdout",
          "text": [
            "Requirement already satisfied: geopandas in /usr/local/lib/python3.7/dist-packages (0.10.2)\n",
            "Requirement already satisfied: fiona>=1.8 in /usr/local/lib/python3.7/dist-packages (from geopandas) (1.8.20)\n",
            "Requirement already satisfied: shapely>=1.6 in /usr/local/lib/python3.7/dist-packages (from geopandas) (1.8.0)\n",
            "Requirement already satisfied: pandas>=0.25.0 in /usr/local/lib/python3.7/dist-packages (from geopandas) (1.1.5)\n",
            "Requirement already satisfied: pyproj>=2.2.0 in /usr/local/lib/python3.7/dist-packages (from geopandas) (3.2.1)\n",
            "Requirement already satisfied: certifi in /usr/local/lib/python3.7/dist-packages (from fiona>=1.8->geopandas) (2021.10.8)\n",
            "Requirement already satisfied: click>=4.0 in /usr/local/lib/python3.7/dist-packages (from fiona>=1.8->geopandas) (7.1.2)\n",
            "Requirement already satisfied: setuptools in /usr/local/lib/python3.7/dist-packages (from fiona>=1.8->geopandas) (57.4.0)\n",
            "Requirement already satisfied: click-plugins>=1.0 in /usr/local/lib/python3.7/dist-packages (from fiona>=1.8->geopandas) (1.1.1)\n",
            "Requirement already satisfied: cligj>=0.5 in /usr/local/lib/python3.7/dist-packages (from fiona>=1.8->geopandas) (0.7.2)\n",
            "Requirement already satisfied: attrs>=17 in /usr/local/lib/python3.7/dist-packages (from fiona>=1.8->geopandas) (21.2.0)\n",
            "Requirement already satisfied: six>=1.7 in /usr/local/lib/python3.7/dist-packages (from fiona>=1.8->geopandas) (1.15.0)\n",
            "Requirement already satisfied: munch in /usr/local/lib/python3.7/dist-packages (from fiona>=1.8->geopandas) (2.5.0)\n",
            "Requirement already satisfied: pytz>=2017.2 in /usr/local/lib/python3.7/dist-packages (from pandas>=0.25.0->geopandas) (2018.9)\n",
            "Requirement already satisfied: python-dateutil>=2.7.3 in /usr/local/lib/python3.7/dist-packages (from pandas>=0.25.0->geopandas) (2.8.2)\n",
            "Requirement already satisfied: numpy>=1.15.4 in /usr/local/lib/python3.7/dist-packages (from pandas>=0.25.0->geopandas) (1.19.5)\n"
          ]
        }
      ]
    },
    {
      "cell_type": "markdown",
      "metadata": {
        "id": "QMAex6JZzhZg"
      },
      "source": [
        "## Misc Links\n",
        "#### https://towardsdatascience.com/10-tips-for-a-better-google-colab-experience-33f8fe721b82"
      ]
    }
  ]
}