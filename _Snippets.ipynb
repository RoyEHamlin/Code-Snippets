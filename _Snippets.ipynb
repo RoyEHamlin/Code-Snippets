{
  "nbformat": 4,
  "nbformat_minor": 0,
  "metadata": {
    "colab": {
      "name": "_Snippets.ipynb",
      "provenance": [],
      "collapsed_sections": [
        "ZYraNen1kvyn",
        "VlgOvLu9k0b3",
        "9tINSBCTlZM5",
        "68wP9N6ZmRgq"
      ],
      "authorship_tag": "ABX9TyOJCBSVFLJP6AF2+My3IUrh",
      "include_colab_link": true
    },
    "kernelspec": {
      "name": "python3",
      "display_name": "Python 3"
    },
    "language_info": {
      "name": "python"
    }
  },
  "cells": [
    {
      "cell_type": "markdown",
      "metadata": {
        "id": "view-in-github",
        "colab_type": "text"
      },
      "source": [
        "<a href=\"https://colab.research.google.com/github/RoyEHamlin/Code-Snippets/blob/main/_Snippets.ipynb\" target=\"_parent\"><img src=\"https://colab.research.google.com/assets/colab-badge.svg\" alt=\"Open In Colab\"/></a>"
      ]
    },
    {
      "cell_type": "markdown",
      "metadata": {
        "id": "-jmGEV6oY9Jc"
      },
      "source": [
        "# _Code Snippets (General)"
      ]
    },
    {
      "cell_type": "markdown",
      "metadata": {
        "id": "zC8NGHhrZA1j"
      },
      "source": [
        "###### Print Line (of Markdown)"
      ]
    },
    {
      "cell_type": "code",
      "metadata": {
        "colab": {
          "base_uri": "https://localhost:8080/"
        },
        "id": "s_4rcwEqYz1k",
        "outputId": "6b6b348e-bef3-449b-8c4f-7a2a2d763100"
      },
      "source": [
        "# Print Line\n",
        "print('here this is')"
      ],
      "execution_count": null,
      "outputs": [
        {
          "output_type": "stream",
          "name": "stdout",
          "text": [
            "here this is\n"
          ]
        }
      ]
    },
    {
      "cell_type": "markdown",
      "metadata": {
        "id": "ZYraNen1kvyn"
      },
      "source": [
        "### Quantra"
      ]
    },
    {
      "cell_type": "markdown",
      "metadata": {
        "id": "VlgOvLu9k0b3"
      },
      "source": [
        "#### Load Ta-Lib SOLUTION"
      ]
    },
    {
      "cell_type": "code",
      "metadata": {
        "colab": {
          "base_uri": "https://localhost:8080/"
        },
        "id": "lBQzQ7Qxk667",
        "outputId": "9abb4795-ef46-4d1a-f574-f312cfa070e7"
      },
      "source": [
        "# Load Ta-Lib : https://stackoverflow.com/questions/49648391/how-to-install-ta-lib-in-google-colab#49660479\n",
        "url = 'https://anaconda.org/conda-forge/libta-lib/0.4.0/download/linux-64/libta-lib-0.4.0-h516909a_0.tar.bz2'\n",
        "!curl -L $url | tar xj -C /usr/lib/x86_64-linux-gnu/ lib --strip-components=1\n",
        "url = 'https://anaconda.org/conda-forge/ta-lib/0.4.19/download/linux-64/ta-lib-0.4.19-py37ha21ca33_2.tar.bz2'\n",
        "!curl -L $url | tar xj -C /usr/local/lib/python3.7/dist-packages/ lib/python3.7/site-packages/talib --strip-components=3\n",
        "import talib\n",
        "\n",
        "# Additional References\n",
        "## https://blog.quantinsti.com/install-ta-lib-python/"
      ],
      "execution_count": null,
      "outputs": [
        {
          "output_type": "stream",
          "name": "stdout",
          "text": [
            "  % Total    % Received % Xferd  Average Speed   Time    Time     Time  Current\n",
            "                                 Dload  Upload   Total   Spent    Left  Speed\n",
            "100  3753    0  3753    0     0   6448      0 --:--:-- --:--:-- --:--:--  6437\n",
            "100  503k  100  503k    0     0   308k      0  0:00:01  0:00:01 --:--:-- 1778k\n",
            "  % Total    % Received % Xferd  Average Speed   Time    Time     Time  Current\n",
            "                                 Dload  Upload   Total   Spent    Left  Speed\n",
            "100  3773    0  3773    0     0   8815      0 --:--:-- --:--:-- --:--:--  8815\n",
            "100  406k  100  406k    0     0   339k      0  0:00:01  0:00:01 --:--:--  697k\n"
          ]
        }
      ]
    },
    {
      "cell_type": "markdown",
      "metadata": {
        "id": "9tINSBCTlZM5"
      },
      "source": [
        "### Google Drive"
      ]
    },
    {
      "cell_type": "code",
      "metadata": {
        "colab": {
          "base_uri": "https://localhost:8080/"
        },
        "id": "W6FQlxMZldzz",
        "outputId": "df1c7d4e-af0d-4e3b-867d-0a4ab535cf42"
      },
      "source": [
        "#### Load local folders for project\n",
        "# https://stackoverflow.com/questions/52466839/colab-error-modulenotfounderror-no-module-named\n",
        "from google.colab import drive\n",
        "drive.mount('/content/drive')\n",
        "# Mount drive w/ key here\n",
        "%cd /content/drive/My\\ Drive/Colab\\ Notebooks/Quantra/Intro-to-RL-and-Deep-Q-Network\n",
        "# List files to make sure we're in the expected directory.\n",
        "# Your output will look different, showing your own Drive files here.\n",
        "!ls"
      ],
      "execution_count": null,
      "outputs": [
        {
          "output_type": "stream",
          "name": "stdout",
          "text": [
            "Mounted at /content/drive\n",
            "[Errno 2] No such file or directory: '/content/drive/My Drive/Colab Notebooks/Quantra/Intro-to-RL-and-Deep-Q-Network'\n",
            "/content\n",
            "drive  sample_data\n"
          ]
        }
      ]
    },
    {
      "cell_type": "markdown",
      "metadata": {
        "id": "68wP9N6ZmRgq"
      },
      "source": [
        "### Packages"
      ]
    },
    {
      "cell_type": "code",
      "metadata": {
        "colab": {
          "base_uri": "https://localhost:8080/"
        },
        "id": "3_Gg1AYSmT3o",
        "outputId": "f6e4baa5-b77e-4435-b30c-523445f2d537"
      },
      "source": [
        "#### Install Packages with % instead of !\n",
        "# https://stackoverflow.com/questions/51342408/how-do-i-install-python-packages-in-googles-colab#answer-61212861\n",
        "# https://stackoverflow.com/questions/63433405/colab-error-modulenotfounderror-no-module-named-geopandas\n",
        "% pip install geopandas"
      ],
      "execution_count": null,
      "outputs": [
        {
          "output_type": "stream",
          "name": "stdout",
          "text": [
            "Collecting geopandas\n",
            "  Downloading geopandas-0.10.2-py2.py3-none-any.whl (1.0 MB)\n",
            "\u001b[?25l\r\u001b[K     |▎                               | 10 kB 20.7 MB/s eta 0:00:01\r\u001b[K     |▋                               | 20 kB 29.7 MB/s eta 0:00:01\r\u001b[K     |█                               | 30 kB 24.9 MB/s eta 0:00:01\r\u001b[K     |█▎                              | 40 kB 17.8 MB/s eta 0:00:01\r\u001b[K     |█▋                              | 51 kB 16.6 MB/s eta 0:00:01\r\u001b[K     |██                              | 61 kB 13.8 MB/s eta 0:00:01\r\u001b[K     |██▎                             | 71 kB 13.6 MB/s eta 0:00:01\r\u001b[K     |██▌                             | 81 kB 14.8 MB/s eta 0:00:01\r\u001b[K     |██▉                             | 92 kB 15.4 MB/s eta 0:00:01\r\u001b[K     |███▏                            | 102 kB 12.0 MB/s eta 0:00:01\r\u001b[K     |███▌                            | 112 kB 12.0 MB/s eta 0:00:01\r\u001b[K     |███▉                            | 122 kB 12.0 MB/s eta 0:00:01\r\u001b[K     |████▏                           | 133 kB 12.0 MB/s eta 0:00:01\r\u001b[K     |████▌                           | 143 kB 12.0 MB/s eta 0:00:01\r\u001b[K     |████▊                           | 153 kB 12.0 MB/s eta 0:00:01\r\u001b[K     |█████                           | 163 kB 12.0 MB/s eta 0:00:01\r\u001b[K     |█████▍                          | 174 kB 12.0 MB/s eta 0:00:01\r\u001b[K     |█████▊                          | 184 kB 12.0 MB/s eta 0:00:01\r\u001b[K     |██████                          | 194 kB 12.0 MB/s eta 0:00:01\r\u001b[K     |██████▍                         | 204 kB 12.0 MB/s eta 0:00:01\r\u001b[K     |██████▊                         | 215 kB 12.0 MB/s eta 0:00:01\r\u001b[K     |███████                         | 225 kB 12.0 MB/s eta 0:00:01\r\u001b[K     |███████▎                        | 235 kB 12.0 MB/s eta 0:00:01\r\u001b[K     |███████▋                        | 245 kB 12.0 MB/s eta 0:00:01\r\u001b[K     |████████                        | 256 kB 12.0 MB/s eta 0:00:01\r\u001b[K     |████████▎                       | 266 kB 12.0 MB/s eta 0:00:01\r\u001b[K     |████████▋                       | 276 kB 12.0 MB/s eta 0:00:01\r\u001b[K     |█████████                       | 286 kB 12.0 MB/s eta 0:00:01\r\u001b[K     |█████████▏                      | 296 kB 12.0 MB/s eta 0:00:01\r\u001b[K     |█████████▌                      | 307 kB 12.0 MB/s eta 0:00:01\r\u001b[K     |█████████▉                      | 317 kB 12.0 MB/s eta 0:00:01\r\u001b[K     |██████████▏                     | 327 kB 12.0 MB/s eta 0:00:01\r\u001b[K     |██████████▌                     | 337 kB 12.0 MB/s eta 0:00:01\r\u001b[K     |██████████▉                     | 348 kB 12.0 MB/s eta 0:00:01\r\u001b[K     |███████████▏                    | 358 kB 12.0 MB/s eta 0:00:01\r\u001b[K     |███████████▍                    | 368 kB 12.0 MB/s eta 0:00:01\r\u001b[K     |███████████▊                    | 378 kB 12.0 MB/s eta 0:00:01\r\u001b[K     |████████████                    | 389 kB 12.0 MB/s eta 0:00:01\r\u001b[K     |████████████▍                   | 399 kB 12.0 MB/s eta 0:00:01\r\u001b[K     |████████████▊                   | 409 kB 12.0 MB/s eta 0:00:01\r\u001b[K     |█████████████                   | 419 kB 12.0 MB/s eta 0:00:01\r\u001b[K     |█████████████▍                  | 430 kB 12.0 MB/s eta 0:00:01\r\u001b[K     |█████████████▋                  | 440 kB 12.0 MB/s eta 0:00:01\r\u001b[K     |██████████████                  | 450 kB 12.0 MB/s eta 0:00:01\r\u001b[K     |██████████████▎                 | 460 kB 12.0 MB/s eta 0:00:01\r\u001b[K     |██████████████▋                 | 471 kB 12.0 MB/s eta 0:00:01\r\u001b[K     |███████████████                 | 481 kB 12.0 MB/s eta 0:00:01\r\u001b[K     |███████████████▎                | 491 kB 12.0 MB/s eta 0:00:01\r\u001b[K     |███████████████▋                | 501 kB 12.0 MB/s eta 0:00:01\r\u001b[K     |███████████████▉                | 512 kB 12.0 MB/s eta 0:00:01\r\u001b[K     |████████████████▏               | 522 kB 12.0 MB/s eta 0:00:01\r\u001b[K     |████████████████▌               | 532 kB 12.0 MB/s eta 0:00:01\r\u001b[K     |████████████████▉               | 542 kB 12.0 MB/s eta 0:00:01\r\u001b[K     |█████████████████▏              | 552 kB 12.0 MB/s eta 0:00:01\r\u001b[K     |█████████████████▌              | 563 kB 12.0 MB/s eta 0:00:01\r\u001b[K     |█████████████████▉              | 573 kB 12.0 MB/s eta 0:00:01\r\u001b[K     |██████████████████              | 583 kB 12.0 MB/s eta 0:00:01\r\u001b[K     |██████████████████▍             | 593 kB 12.0 MB/s eta 0:00:01\r\u001b[K     |██████████████████▊             | 604 kB 12.0 MB/s eta 0:00:01\r\u001b[K     |███████████████████             | 614 kB 12.0 MB/s eta 0:00:01\r\u001b[K     |███████████████████▍            | 624 kB 12.0 MB/s eta 0:00:01\r\u001b[K     |███████████████████▊            | 634 kB 12.0 MB/s eta 0:00:01\r\u001b[K     |████████████████████            | 645 kB 12.0 MB/s eta 0:00:01\r\u001b[K     |████████████████████▎           | 655 kB 12.0 MB/s eta 0:00:01\r\u001b[K     |████████████████████▋           | 665 kB 12.0 MB/s eta 0:00:01\r\u001b[K     |█████████████████████           | 675 kB 12.0 MB/s eta 0:00:01\r\u001b[K     |█████████████████████▎          | 686 kB 12.0 MB/s eta 0:00:01\r\u001b[K     |█████████████████████▋          | 696 kB 12.0 MB/s eta 0:00:01\r\u001b[K     |██████████████████████          | 706 kB 12.0 MB/s eta 0:00:01\r\u001b[K     |██████████████████████▎         | 716 kB 12.0 MB/s eta 0:00:01\r\u001b[K     |██████████████████████▋         | 727 kB 12.0 MB/s eta 0:00:01\r\u001b[K     |██████████████████████▉         | 737 kB 12.0 MB/s eta 0:00:01\r\u001b[K     |███████████████████████▏        | 747 kB 12.0 MB/s eta 0:00:01\r\u001b[K     |███████████████████████▌        | 757 kB 12.0 MB/s eta 0:00:01\r\u001b[K     |███████████████████████▉        | 768 kB 12.0 MB/s eta 0:00:01\r\u001b[K     |████████████████████████▏       | 778 kB 12.0 MB/s eta 0:00:01\r\u001b[K     |████████████████████████▌       | 788 kB 12.0 MB/s eta 0:00:01\r\u001b[K     |████████████████████████▉       | 798 kB 12.0 MB/s eta 0:00:01\r\u001b[K     |█████████████████████████       | 808 kB 12.0 MB/s eta 0:00:01\r\u001b[K     |█████████████████████████▍      | 819 kB 12.0 MB/s eta 0:00:01\r\u001b[K     |█████████████████████████▊      | 829 kB 12.0 MB/s eta 0:00:01\r\u001b[K     |██████████████████████████      | 839 kB 12.0 MB/s eta 0:00:01\r\u001b[K     |██████████████████████████▍     | 849 kB 12.0 MB/s eta 0:00:01\r\u001b[K     |██████████████████████████▊     | 860 kB 12.0 MB/s eta 0:00:01\r\u001b[K     |███████████████████████████     | 870 kB 12.0 MB/s eta 0:00:01\r\u001b[K     |███████████████████████████▎    | 880 kB 12.0 MB/s eta 0:00:01\r\u001b[K     |███████████████████████████▋    | 890 kB 12.0 MB/s eta 0:00:01\r\u001b[K     |████████████████████████████    | 901 kB 12.0 MB/s eta 0:00:01\r\u001b[K     |████████████████████████████▎   | 911 kB 12.0 MB/s eta 0:00:01\r\u001b[K     |████████████████████████████▋   | 921 kB 12.0 MB/s eta 0:00:01\r\u001b[K     |█████████████████████████████   | 931 kB 12.0 MB/s eta 0:00:01\r\u001b[K     |█████████████████████████████▎  | 942 kB 12.0 MB/s eta 0:00:01\r\u001b[K     |█████████████████████████████▌  | 952 kB 12.0 MB/s eta 0:00:01\r\u001b[K     |█████████████████████████████▉  | 962 kB 12.0 MB/s eta 0:00:01\r\u001b[K     |██████████████████████████████▏ | 972 kB 12.0 MB/s eta 0:00:01\r\u001b[K     |██████████████████████████████▌ | 983 kB 12.0 MB/s eta 0:00:01\r\u001b[K     |██████████████████████████████▉ | 993 kB 12.0 MB/s eta 0:00:01\r\u001b[K     |███████████████████████████████▏| 1.0 MB 12.0 MB/s eta 0:00:01\r\u001b[K     |███████████████████████████████▌| 1.0 MB 12.0 MB/s eta 0:00:01\r\u001b[K     |███████████████████████████████▊| 1.0 MB 12.0 MB/s eta 0:00:01\r\u001b[K     |████████████████████████████████| 1.0 MB 12.0 MB/s \n",
            "\u001b[?25hRequirement already satisfied: shapely>=1.6 in /usr/local/lib/python3.7/dist-packages (from geopandas) (1.8.0)\n",
            "Collecting fiona>=1.8\n",
            "  Downloading Fiona-1.8.20-cp37-cp37m-manylinux1_x86_64.whl (15.4 MB)\n",
            "\u001b[K     |████████████████████████████████| 15.4 MB 41 kB/s \n",
            "\u001b[?25hCollecting pyproj>=2.2.0\n",
            "  Downloading pyproj-3.2.1-cp37-cp37m-manylinux2010_x86_64.whl (6.3 MB)\n",
            "\u001b[K     |████████████████████████████████| 6.3 MB 45.8 MB/s \n",
            "\u001b[?25hRequirement already satisfied: pandas>=0.25.0 in /usr/local/lib/python3.7/dist-packages (from geopandas) (1.1.5)\n",
            "Requirement already satisfied: setuptools in /usr/local/lib/python3.7/dist-packages (from fiona>=1.8->geopandas) (57.4.0)\n",
            "Requirement already satisfied: certifi in /usr/local/lib/python3.7/dist-packages (from fiona>=1.8->geopandas) (2021.10.8)\n",
            "Requirement already satisfied: click>=4.0 in /usr/local/lib/python3.7/dist-packages (from fiona>=1.8->geopandas) (7.1.2)\n",
            "Collecting munch\n",
            "  Downloading munch-2.5.0-py2.py3-none-any.whl (10 kB)\n",
            "Collecting click-plugins>=1.0\n",
            "  Downloading click_plugins-1.1.1-py2.py3-none-any.whl (7.5 kB)\n",
            "Requirement already satisfied: attrs>=17 in /usr/local/lib/python3.7/dist-packages (from fiona>=1.8->geopandas) (21.2.0)\n",
            "Collecting cligj>=0.5\n",
            "  Downloading cligj-0.7.2-py3-none-any.whl (7.1 kB)\n",
            "Requirement already satisfied: six>=1.7 in /usr/local/lib/python3.7/dist-packages (from fiona>=1.8->geopandas) (1.15.0)\n",
            "Requirement already satisfied: numpy>=1.15.4 in /usr/local/lib/python3.7/dist-packages (from pandas>=0.25.0->geopandas) (1.19.5)\n",
            "Requirement already satisfied: pytz>=2017.2 in /usr/local/lib/python3.7/dist-packages (from pandas>=0.25.0->geopandas) (2018.9)\n",
            "Requirement already satisfied: python-dateutil>=2.7.3 in /usr/local/lib/python3.7/dist-packages (from pandas>=0.25.0->geopandas) (2.8.2)\n",
            "Installing collected packages: munch, cligj, click-plugins, pyproj, fiona, geopandas\n",
            "Successfully installed click-plugins-1.1.1 cligj-0.7.2 fiona-1.8.20 geopandas-0.10.2 munch-2.5.0 pyproj-3.2.1\n"
          ]
        }
      ]
    }
  ]
}