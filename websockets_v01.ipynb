{
  "nbformat": 4,
  "nbformat_minor": 0,
  "metadata": {
    "colab": {
      "name": "websockets-v01.ipynb",
      "provenance": [],
      "authorship_tag": "ABX9TyMYB1V4YEvkDzRcxh3J+f/4",
      "include_colab_link": true
    },
    "kernelspec": {
      "name": "python3",
      "display_name": "Python 3"
    },
    "language_info": {
      "name": "python"
    }
  },
  "cells": [
    {
      "cell_type": "markdown",
      "metadata": {
        "id": "view-in-github",
        "colab_type": "text"
      },
      "source": [
        "<a href=\"https://colab.research.google.com/github/RoyEHamlin/Code-Snippets/blob/main/websockets_v01.ipynb\" target=\"_parent\"><img src=\"https://colab.research.google.com/assets/colab-badge.svg\" alt=\"Open In Colab\"/></a>"
      ]
    },
    {
      "cell_type": "markdown",
      "source": [
        "# Basic Cryptocurrency feed from Binaance using Websockets\n",
        "## Tutorial at : https://www.youtube.com/watch?v=z2ePTq-KTzQ"
      ],
      "metadata": {
        "id": "Xkk52Q3oE0DU"
      }
    },
    {
      "cell_type": "code",
      "execution_count": 1,
      "metadata": {
        "colab": {
          "base_uri": "https://localhost:8080/"
        },
        "id": "WX1p8pQX8X5w",
        "outputId": "723ad674-d017-4d73-f9e9-20071f47aa25"
      },
      "outputs": [
        {
          "output_type": "stream",
          "name": "stdout",
          "text": [
            "Collecting websocket-client\n",
            "  Downloading websocket_client-1.2.3-py3-none-any.whl (53 kB)\n",
            "\u001b[?25l\r\u001b[K     |██████▏                         | 10 kB 15.4 MB/s eta 0:00:01\r\u001b[K     |████████████▎                   | 20 kB 7.9 MB/s eta 0:00:01\r\u001b[K     |██████████████████▍             | 30 kB 6.7 MB/s eta 0:00:01\r\u001b[K     |████████████████████████▌       | 40 kB 6.5 MB/s eta 0:00:01\r\u001b[K     |██████████████████████████████▋ | 51 kB 4.2 MB/s eta 0:00:01\r\u001b[K     |████████████████████████████████| 53 kB 734 kB/s \n",
            "\u001b[?25hInstalling collected packages: websocket-client\n",
            "Successfully installed websocket-client-1.2.3\n"
          ]
        }
      ],
      "source": [
        "pip install websocket-client"
      ]
    },
    {
      "cell_type": "code",
      "source": [
        "import websocket, json"
      ],
      "metadata": {
        "id": "8A6W81-mDA2B"
      },
      "execution_count": 2,
      "outputs": []
    },
    {
      "cell_type": "code",
      "source": [
        "socket = 'wss://stream.binance.com:9443'"
      ],
      "metadata": {
        "id": "0bXEvnj3DI2u"
      },
      "execution_count": null,
      "outputs": []
    },
    {
      "cell_type": "code",
      "source": [
        "cc = "
      ],
      "metadata": {
        "id": "SgRyeLtCDteO"
      },
      "execution_count": null,
      "outputs": []
    }
  ]
}